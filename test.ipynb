{
 "cells": [
  {
   "cell_type": "code",
   "execution_count": 4,
   "metadata": {
    "collapsed": true
   },
   "outputs": [],
   "source": [
    "import psycopg2\n",
    "import configparser"
   ]
  },
  {
   "cell_type": "code",
   "execution_count": 5,
   "outputs": [
    {
     "data": {
      "text/plain": "['dwh.cfg']"
     },
     "execution_count": 5,
     "metadata": {},
     "output_type": "execute_result"
    }
   ],
   "source": [
    "config = configparser.ConfigParser()\n",
    "config.read(\"dwh.cfg\")"
   ],
   "metadata": {
    "collapsed": false,
    "pycharm": {
     "name": "#%%\n"
    }
   }
  },
  {
   "cell_type": "code",
   "execution_count": 6,
   "outputs": [],
   "source": [
    "conn = psycopg2.connect(\"host={} dbname={} user={} password={}\".format(config[\"CLUSTER\"][\"HOST\"],\n",
    "                                                                config[\"IMMIGRATION\"][\"DB_NAME\"],\n",
    "                                                                config[\"CLUSTER\"][\"DB_USER\"],\n",
    "                                                                config[\"CLUSTER\"][\"DB_PASSWORD\"]))"
   ],
   "metadata": {
    "collapsed": false,
    "pycharm": {
     "name": "#%%\n"
    }
   }
  },
  {
   "cell_type": "code",
   "execution_count": 7,
   "outputs": [],
   "source": [
    "cursor = conn.cursor()"
   ],
   "metadata": {
    "collapsed": false,
    "pycharm": {
     "name": "#%%\n"
    }
   }
  },
  {
   "cell_type": "code",
   "execution_count": 112,
   "outputs": [],
   "source": [
    "cursor.execute(\"select * from immigration limit 10;\")\n",
    "conn.commit()"
   ],
   "metadata": {
    "collapsed": false,
    "pycharm": {
     "name": "#%%\n"
    }
   }
  },
  {
   "cell_type": "code",
   "execution_count": 113,
   "outputs": [
    {
     "data": {
      "text/plain": "[(5435004,\n  2016,\n  4,\n  123,\n  123,\n  'DEN',\n  datetime.date(2016, 4, 29),\n  1,\n  'GA',\n  datetime.date(2016, 5, 6),\n  33,\n  1,\n  1,\n  '20160429',\n  None,\n  None,\n  'G',\n  'O',\n  None,\n  'M',\n  '1983',\n  '07272016',\n  'M',\n  None,\n  'KL',\n  59494038133.0,\n  '00621',\n  'WB'),\n (5435005,\n  2016,\n  4,\n  123,\n  123,\n  'DEN',\n  datetime.date(2016, 4, 29),\n  1,\n  'GA',\n  datetime.date(2016, 5, 7),\n  54,\n  2,\n  1,\n  '20160429',\n  None,\n  None,\n  'G',\n  'O',\n  None,\n  'M',\n  '1962',\n  '07272016',\n  'M',\n  None,\n  'KL',\n  59495724933.0,\n  '00621',\n  'WT'),\n (5435006,\n  2016,\n  4,\n  123,\n  123,\n  'DEN',\n  datetime.date(2016, 4, 29),\n  1,\n  'GA',\n  datetime.date(2016, 5, 7),\n  39,\n  1,\n  1,\n  '20160429',\n  None,\n  None,\n  'G',\n  'O',\n  None,\n  'M',\n  '1977',\n  '07272016',\n  'F',\n  None,\n  'KL',\n  59496150133.0,\n  '00621',\n  'WB'),\n (5435007,\n  2016,\n  4,\n  123,\n  123,\n  'DEN',\n  datetime.date(2016, 4, 29),\n  1,\n  'GA',\n  datetime.date(2016, 5, 8),\n  42,\n  2,\n  1,\n  '20160429',\n  None,\n  None,\n  'G',\n  'O',\n  None,\n  'M',\n  '1974',\n  '07272016',\n  'F',\n  None,\n  'DL',\n  59488832433.0,\n  '00919',\n  'WT'),\n (5435008,\n  2016,\n  4,\n  123,\n  123,\n  'DEN',\n  datetime.date(2016, 4, 29),\n  1,\n  'GA',\n  datetime.date(2016, 5, 8),\n  12,\n  2,\n  1,\n  '20160429',\n  None,\n  None,\n  'G',\n  'O',\n  None,\n  'M',\n  '2004',\n  '07272016',\n  'F',\n  None,\n  'DL',\n  59488933233.0,\n  '00919',\n  'WT'),\n (5435009,\n  2016,\n  4,\n  123,\n  123,\n  'DEN',\n  datetime.date(2016, 4, 29),\n  1,\n  'GA',\n  datetime.date(2016, 5, 8),\n  10,\n  2,\n  1,\n  '20160429',\n  None,\n  None,\n  'G',\n  'O',\n  None,\n  'M',\n  '2006',\n  '07272016',\n  'F',\n  None,\n  'DL',\n  59488970933.0,\n  '00919',\n  'WT'),\n (5435010,\n  2016,\n  4,\n  123,\n  123,\n  'DEN',\n  datetime.date(2016, 4, 29),\n  1,\n  'GA',\n  datetime.date(2016, 5, 8),\n  8,\n  2,\n  1,\n  '20160429',\n  None,\n  None,\n  'G',\n  'O',\n  None,\n  'M',\n  '2008',\n  '07272016',\n  'M',\n  None,\n  'DL',\n  59488855333.0,\n  '00919',\n  'WT'),\n (5435011,\n  2016,\n  4,\n  123,\n  123,\n  'DEN',\n  datetime.date(2016, 4, 29),\n  1,\n  'GA',\n  datetime.date(2016, 5, 9),\n  39,\n  2,\n  1,\n  '20160429',\n  None,\n  None,\n  'G',\n  'O',\n  None,\n  'M',\n  '1977',\n  '07272016',\n  'F',\n  None,\n  'DL',\n  59446843633.0,\n  '00071',\n  'WT'),\n (5435012,\n  2016,\n  4,\n  123,\n  123,\n  'DEN',\n  datetime.date(2016, 4, 29),\n  1,\n  'GA',\n  datetime.date(2016, 5, 9),\n  8,\n  2,\n  1,\n  '20160429',\n  None,\n  None,\n  'G',\n  'O',\n  None,\n  'M',\n  '2008',\n  '07272016',\n  'F',\n  None,\n  'DL',\n  59446763933.0,\n  '00071',\n  'WT'),\n (5435013,\n  2016,\n  4,\n  123,\n  123,\n  'DEN',\n  datetime.date(2016, 4, 29),\n  1,\n  'GA',\n  datetime.date(2016, 5, 9),\n  0,\n  2,\n  1,\n  '20160429',\n  None,\n  None,\n  'G',\n  'O',\n  None,\n  'M',\n  '2016',\n  '07272016',\n  'F',\n  None,\n  'DL',\n  59446785933.0,\n  '00071',\n  'WT')]"
     },
     "execution_count": 113,
     "metadata": {},
     "output_type": "execute_result"
    }
   ],
   "source": [
    "cursor.fetchall()"
   ],
   "metadata": {
    "collapsed": false,
    "pycharm": {
     "name": "#%%\n"
    }
   }
  },
  {
   "cell_type": "code",
   "execution_count": 102,
   "outputs": [],
   "source": [
    "cursor.execute(\"select * from airport_codes limit 10;\")\n",
    "conn.commit()"
   ],
   "metadata": {
    "collapsed": false,
    "pycharm": {
     "name": "#%%\n"
    }
   }
  },
  {
   "cell_type": "code",
   "execution_count": 103,
   "outputs": [
    {
     "data": {
      "text/plain": "[('K03N',\n  '169.852005, 11.222',\n  'UTK',\n  'small_airport',\n  '03N',\n  'Utirik Airport',\n  'Utirik Island',\n  4,\n  '03N',\n  'MH-UTI',\n  'MH'),\n ('07FA',\n  '-80.274803161621, 25.325399398804',\n  'OCA',\n  'small_airport',\n  '07FA',\n  'Ocean Reef Club Airport',\n  'Key Largo',\n  8,\n  '07FA',\n  'US-FL',\n  'US'),\n ('',\n  '-162.899994, 61.934601',\n  'PQS',\n  'small_airport',\n  '0AK',\n  'Pilot Station Airport',\n  'Pilot Station',\n  305,\n  '0AK',\n  'US-AK',\n  'US'),\n ('0CO2',\n  '-106.928341, 38.851918',\n  'CSE',\n  'small_airport',\n  '0CO2',\n  'Crested Butte Airpark',\n  'Crested Butte',\n  8980,\n  '0CO2',\n  'US-CO',\n  'US'),\n ('0TE7',\n  '-98.62249755859999, 30.251800537100003',\n  'JCY',\n  'small_airport',\n  '0TE7',\n  'LBJ Ranch Airport',\n  'Johnson City',\n  1515,\n  '0TE7',\n  'US-TX',\n  'US'),\n ('13MA',\n  '-72.31140136719999, 42.223300933800004',\n  'PMX',\n  'small_airport',\n  '13MA',\n  'Metropolitan Airport',\n  'Palmer',\n  418,\n  '13MA',\n  'US-MA',\n  'US'),\n ('13Z',\n  '-131.636993408, 55.6012992859',\n  'WLR',\n  'seaplane_base',\n  '13Z',\n  'Loring Seaplane Base',\n  'Loring',\n  0,\n  '13Z',\n  'US-AK',\n  'US'),\n ('PPIT',\n  '-162.440454, 60.905591',\n  'NUP',\n  'small_airport',\n  '16A',\n  'Nunapitchuk Airport',\n  'Nunapitchuk',\n  12,\n  '16A',\n  'US-AK',\n  'US'),\n ('16K',\n  '-133.597, 55.803',\n  'PTC',\n  'seaplane_base',\n  '16K',\n  'Port Alice Seaplane Base',\n  'Port Alice',\n  0,\n  '16K',\n  'US-AK',\n  'US'),\n ('19AK',\n  '-141.662002563, 59.96900177',\n  'ICY',\n  'small_airport',\n  '19AK',\n  'Icy Bay Airport',\n  'Icy Bay',\n  50,\n  '19AK',\n  'US-AK',\n  'US')]"
     },
     "execution_count": 103,
     "metadata": {},
     "output_type": "execute_result"
    }
   ],
   "source": [
    "cursor.fetchall()"
   ],
   "metadata": {
    "collapsed": false,
    "pycharm": {
     "name": "#%%\n"
    }
   }
  },
  {
   "cell_type": "code",
   "execution_count": 104,
   "outputs": [],
   "source": [
    "cursor.execute(\"select * from state_codes limit 10;\")\n",
    "conn.commit()"
   ],
   "metadata": {
    "collapsed": false,
    "pycharm": {
     "name": "#%%\n"
    }
   }
  },
  {
   "cell_type": "code",
   "execution_count": 105,
   "outputs": [
    {
     "data": {
      "text/plain": "[('Silver Spring',\n  'Maryland',\n  33.8,\n  40601,\n  41862,\n  82463,\n  1562,\n  30908,\n  2.6,\n  'MD',\n  'Hispanic or Latino',\n  25924),\n ('Quincy',\n  'Massachusetts',\n  41.0,\n  44129,\n  49500,\n  93629,\n  4147,\n  32935,\n  2.39,\n  'MA',\n  'White',\n  58723),\n ('Hoover',\n  'Alabama',\n  38.5,\n  38040,\n  46799,\n  84839,\n  4819,\n  8229,\n  2.58,\n  'AL',\n  'Asian',\n  4759),\n ('Rancho Cucamonga',\n  'California',\n  34.5,\n  88127,\n  87105,\n  175232,\n  5821,\n  33878,\n  3.18,\n  'CA',\n  'Black or African-American',\n  24437),\n ('Newark',\n  'New Jersey',\n  34.6,\n  138040,\n  143873,\n  281913,\n  5829,\n  86253,\n  2.73,\n  'NJ',\n  'White',\n  76402),\n ('Peoria',\n  'Illinois',\n  33.1,\n  56229,\n  62432,\n  118661,\n  6634,\n  7517,\n  2.4,\n  'IL',\n  'American Indian and Alaska Native',\n  1343),\n ('Avondale',\n  'Arizona',\n  29.1,\n  38712,\n  41971,\n  80683,\n  4815,\n  8355,\n  3.18,\n  'AZ',\n  'Black or African-American',\n  11592),\n ('West Covina',\n  'California',\n  39.8,\n  51629,\n  56860,\n  108489,\n  3800,\n  37038,\n  3.56,\n  'CA',\n  'Asian',\n  32716),\n (\"O'Fallon\",\n  'Missouri',\n  36.0,\n  41762,\n  43270,\n  85032,\n  5783,\n  3269,\n  2.77,\n  'MO',\n  'Hispanic or Latino',\n  2583),\n ('High Point',\n  'North Carolina',\n  35.5,\n  51751,\n  58077,\n  109828,\n  5204,\n  16315,\n  2.65,\n  'NC',\n  'Asian',\n  11060)]"
     },
     "execution_count": 105,
     "metadata": {},
     "output_type": "execute_result"
    }
   ],
   "source": [
    "cursor.fetchall()"
   ],
   "metadata": {
    "collapsed": false,
    "pycharm": {
     "name": "#%%\n"
    }
   }
  },
  {
   "cell_type": "code",
   "execution_count": 106,
   "outputs": [],
   "source": [
    "cursor.execute(\"select * from immigration im JOIN airport_codes ac ON im.i94port = ac.iata_code \"\n",
    "               \"where im.i94port = 'ROC' limit 20;\")\n",
    "conn.commit()"
   ],
   "metadata": {
    "collapsed": false,
    "pycharm": {
     "name": "#%%\n"
    }
   }
  },
  {
   "cell_type": "code",
   "execution_count": 107,
   "outputs": [
    {
     "data": {
      "text/plain": "[(4906214,\n  2016,\n  4,\n  245,\n  245,\n  'ROC',\n  datetime.date(2016, 4, 26),\n  1,\n  'CA',\n  datetime.date(2016, 5, 13),\n  42,\n  2,\n  1,\n  '20160426',\n  'CHE',\n  None,\n  'G',\n  'N',\n  None,\n  'M',\n  '1974',\n  '10252016',\n  'M',\n  None,\n  'CA',\n  94623965430.0,\n  '00983',\n  'B2',\n  'KROC',\n  '-77.67240142822266, 43.118900299072266',\n  'ROC',\n  'large_airport',\n  'ROC',\n  'Greater Rochester International Airport',\n  'Rochester',\n  559,\n  'KROC',\n  'US-NY',\n  'US'),\n (4906554,\n  2016,\n  4,\n  245,\n  245,\n  'ROC',\n  datetime.date(2016, 4, 26),\n  1,\n  'DC',\n  datetime.date(2016, 8, 9),\n  50,\n  2,\n  1,\n  '20160426',\n  'GUZ',\n  None,\n  'G',\n  'O',\n  None,\n  'M',\n  '1966',\n  '10252016',\n  'F',\n  None,\n  'DL',\n  94613115830.0,\n  '00188',\n  'B2',\n  'KROC',\n  '-77.67240142822266, 43.118900299072266',\n  'ROC',\n  'large_airport',\n  'ROC',\n  'Greater Rochester International Airport',\n  'Rochester',\n  559,\n  'KROC',\n  'US-NY',\n  'US'),\n (2306796,\n  2016,\n  4,\n  108,\n  108,\n  'ROC',\n  datetime.date(2016, 4, 13),\n  1,\n  'CA',\n  datetime.date(2016, 4, 27),\n  25,\n  2,\n  1,\n  '20160413',\n  None,\n  None,\n  'G',\n  'O',\n  None,\n  'M',\n  '1991',\n  '07112016',\n  'F',\n  None,\n  'DY',\n  56108582933.0,\n  '07091',\n  'WT',\n  'KROC',\n  '-77.67240142822266, 43.118900299072266',\n  'ROC',\n  'large_airport',\n  'ROC',\n  'Greater Rochester International Airport',\n  'Rochester',\n  559,\n  'KROC',\n  'US-NY',\n  'US'),\n (2306714,\n  2016,\n  4,\n  108,\n  108,\n  'ROC',\n  datetime.date(2016, 4, 13),\n  1,\n  'NY',\n  datetime.date(2016, 4, 17),\n  30,\n  2,\n  1,\n  '20160413',\n  None,\n  None,\n  'O',\n  'O',\n  None,\n  'M',\n  '1986',\n  '07112016',\n  None,\n  None,\n  'DL',\n  56074840333.0,\n  '00047',\n  'WT',\n  'KROC',\n  '-77.67240142822266, 43.118900299072266',\n  'ROC',\n  'large_airport',\n  'ROC',\n  'Greater Rochester International Airport',\n  'Rochester',\n  559,\n  'KROC',\n  'US-NY',\n  'US'),\n (3143991,\n  2016,\n  4,\n  209,\n  209,\n  'ROC',\n  datetime.date(2016, 4, 17),\n  1,\n  'HI',\n  datetime.date(2016, 4, 22),\n  35,\n  2,\n  1,\n  '20160417',\n  None,\n  None,\n  'G',\n  'O',\n  None,\n  'M',\n  '1981',\n  '07152016',\n  'F',\n  None,\n  'HA',\n  56326599133.0,\n  '00450',\n  'WT',\n  'KROC',\n  '-77.67240142822266, 43.118900299072266',\n  'ROC',\n  'large_airport',\n  'ROC',\n  'Greater Rochester International Airport',\n  'Rochester',\n  559,\n  'KROC',\n  'US-NY',\n  'US'),\n (5359222,\n  2016,\n  4,\n  582,\n  582,\n  'ROC',\n  datetime.date(2016, 4, 28),\n  1,\n  'NY',\n  datetime.date(2016, 5, 1),\n  48,\n  2,\n  1,\n  '20160428',\n  'MEX',\n  None,\n  'G',\n  'O',\n  None,\n  'M',\n  '1968',\n  '10272016',\n  'M',\n  None,\n  '4O',\n  94726233330.0,\n  '02994',\n  'B2',\n  'KROC',\n  '-77.67240142822266, 43.118900299072266',\n  'ROC',\n  'large_airport',\n  'ROC',\n  'Greater Rochester International Airport',\n  'Rochester',\n  559,\n  'KROC',\n  'US-NY',\n  'US'),\n (5359242,\n  2016,\n  4,\n  582,\n  582,\n  'ROC',\n  datetime.date(2016, 4, 28),\n  1,\n  'NY',\n  datetime.date(2016, 5, 1),\n  34,\n  2,\n  1,\n  '20160428',\n  'MEX',\n  None,\n  'G',\n  'O',\n  None,\n  'M',\n  '1982',\n  '10272016',\n  'M',\n  None,\n  'AM',\n  94731787430.0,\n  '00400',\n  'B2',\n  'KROC',\n  '-77.67240142822266, 43.118900299072266',\n  'ROC',\n  'large_airport',\n  'ROC',\n  'Greater Rochester International Airport',\n  'Rochester',\n  559,\n  'KROC',\n  'US-NY',\n  'US'),\n (5359243,\n  2016,\n  4,\n  582,\n  582,\n  'ROC',\n  datetime.date(2016, 4, 28),\n  1,\n  'NY',\n  datetime.date(2016, 5, 1),\n  33,\n  2,\n  1,\n  '20160428',\n  'MEX',\n  None,\n  'G',\n  'O',\n  None,\n  'M',\n  '1983',\n  '10272016',\n  'F',\n  None,\n  'AM',\n  94731892930.0,\n  '00400',\n  'B2',\n  'KROC',\n  '-77.67240142822266, 43.118900299072266',\n  'ROC',\n  'large_airport',\n  'ROC',\n  'Greater Rochester International Airport',\n  'Rochester',\n  559,\n  'KROC',\n  'US-NY',\n  'US'),\n (5359244,\n  2016,\n  4,\n  582,\n  582,\n  'ROC',\n  datetime.date(2016, 4, 28),\n  1,\n  'NY',\n  datetime.date(2016, 5, 1),\n  33,\n  2,\n  1,\n  '20160428',\n  'MEX',\n  None,\n  'G',\n  'O',\n  None,\n  'M',\n  '1983',\n  '10272016',\n  'M',\n  None,\n  'AM',\n  94731710430.0,\n  '00400',\n  'B2',\n  'KROC',\n  '-77.67240142822266, 43.118900299072266',\n  'ROC',\n  'large_airport',\n  'ROC',\n  'Greater Rochester International Airport',\n  'Rochester',\n  559,\n  'KROC',\n  'US-NY',\n  'US'),\n (4524011,\n  2016,\n  4,\n  209,\n  209,\n  'ROC',\n  datetime.date(2016, 4, 24),\n  1,\n  'HI',\n  datetime.date(2016, 4, 29),\n  31,\n  2,\n  1,\n  '20160424',\n  None,\n  None,\n  'G',\n  'O',\n  None,\n  'M',\n  '1985',\n  '07222016',\n  'F',\n  None,\n  'HA',\n  59190418033.0,\n  '00450',\n  'WT',\n  'KROC',\n  '-77.67240142822266, 43.118900299072266',\n  'ROC',\n  'large_airport',\n  'ROC',\n  'Greater Rochester International Airport',\n  'Rochester',\n  559,\n  'KROC',\n  'US-NY',\n  'US'),\n (2312295,\n  2016,\n  4,\n  111,\n  111,\n  'ROC',\n  datetime.date(2016, 4, 13),\n  1,\n  'IL',\n  datetime.date(2016, 6, 30),\n  33,\n  1,\n  1,\n  '20160413',\n  'PRS',\n  None,\n  'G',\n  'O',\n  None,\n  'M',\n  '1983',\n  '04122018',\n  'M',\n  None,\n  'AA',\n  93425802330.0,\n  '00049',\n  'E2',\n  'KROC',\n  '-77.67240142822266, 43.118900299072266',\n  'ROC',\n  'large_airport',\n  'ROC',\n  'Greater Rochester International Airport',\n  'Rochester',\n  559,\n  'KROC',\n  'US-NY',\n  'US'),\n (5765550,\n  2016,\n  4,\n  438,\n  438,\n  'ROC',\n  datetime.date(2016, 4, 30),\n  1,\n  'NY',\n  datetime.date(2016, 5, 10),\n  47,\n  2,\n  1,\n  '20160430',\n  None,\n  None,\n  'G',\n  'O',\n  None,\n  'M',\n  '1969',\n  '07282016',\n  'F',\n  None,\n  'B6',\n  59544214733.0,\n  '00752',\n  'WT',\n  'KROC',\n  '-77.67240142822266, 43.118900299072266',\n  'ROC',\n  'large_airport',\n  'ROC',\n  'Greater Rochester International Airport',\n  'Rochester',\n  559,\n  'KROC',\n  'US-NY',\n  'US'),\n (5765551,\n  2016,\n  4,\n  438,\n  438,\n  'ROC',\n  datetime.date(2016, 4, 30),\n  1,\n  'NY',\n  datetime.date(2016, 5, 10),\n  26,\n  2,\n  1,\n  '20160430',\n  None,\n  None,\n  'G',\n  'O',\n  None,\n  'M',\n  '1990',\n  '07282016',\n  'F',\n  None,\n  'BA',\n  59571396633.0,\n  '00179',\n  'WT',\n  'KROC',\n  '-77.67240142822266, 43.118900299072266',\n  'ROC',\n  'large_airport',\n  'ROC',\n  'Greater Rochester International Airport',\n  'Rochester',\n  559,\n  'KROC',\n  'US-NY',\n  'US'),\n (3151577,\n  2016,\n  4,\n  213,\n  213,\n  'ROC',\n  datetime.date(2016, 4, 17),\n  1,\n  'IL',\n  datetime.date(2016, 4, 30),\n  31,\n  1,\n  1,\n  '20160417',\n  'BMB',\n  None,\n  'G',\n  'O',\n  None,\n  'M',\n  '1985',\n  '10162016',\n  'M',\n  None,\n  'UA',\n  93764320030.0,\n  '00049',\n  'B1',\n  'KROC',\n  '-77.67240142822266, 43.118900299072266',\n  'ROC',\n  'large_airport',\n  'ROC',\n  'Greater Rochester International Airport',\n  'Rochester',\n  559,\n  'KROC',\n  'US-NY',\n  'US'),\n (5837066,\n  2016,\n  4,\n  582,\n  582,\n  'ROC',\n  datetime.date(2016, 4, 30),\n  1,\n  'NV',\n  datetime.date(2016, 5, 5),\n  41,\n  2,\n  1,\n  '20160430',\n  'MEX',\n  None,\n  'G',\n  'R',\n  None,\n  'M',\n  '1975',\n  '10292016',\n  'F',\n  None,\n  '*GA',\n  94995897430.0,\n  'XAGPR',\n  'B2',\n  'KROC',\n  '-77.67240142822266, 43.118900299072266',\n  'ROC',\n  'large_airport',\n  'ROC',\n  'Greater Rochester International Airport',\n  'Rochester',\n  559,\n  'KROC',\n  'US-NY',\n  'US'),\n (3650037,\n  2016,\n  4,\n  103,\n  103,\n  'ROC',\n  datetime.date(2016, 4, 20),\n  1,\n  'NY',\n  datetime.date(2016, 4, 24),\n  63,\n  2,\n  1,\n  '20160420',\n  None,\n  None,\n  'G',\n  'O',\n  None,\n  'M',\n  '1953',\n  '07182016',\n  'M',\n  None,\n  'OS',\n  56468840133.0,\n  '00087',\n  'WT',\n  'KROC',\n  '-77.67240142822266, 43.118900299072266',\n  'ROC',\n  'large_airport',\n  'ROC',\n  'Greater Rochester International Airport',\n  'Rochester',\n  559,\n  'KROC',\n  'US-NY',\n  'US'),\n (2742406,\n  2016,\n  4,\n  254,\n  276,\n  'ROC',\n  datetime.date(2016, 4, 15),\n  1,\n  'GU',\n  datetime.date(2016, 4, 20),\n  29,\n  2,\n  1,\n  '20160415',\n  None,\n  None,\n  'G',\n  'O',\n  None,\n  'M',\n  '1987',\n  '07142016',\n  'F',\n  None,\n  'KE',\n  56179519033.0,\n  '00111',\n  'WT',\n  'KROC',\n  '-77.67240142822266, 43.118900299072266',\n  'ROC',\n  'large_airport',\n  'ROC',\n  'Greater Rochester International Airport',\n  'Rochester',\n  559,\n  'KROC',\n  'US-NY',\n  'US'),\n (999525,\n  2016,\n  4,\n  129,\n  129,\n  'ROC',\n  datetime.date(2016, 4, 6),\n  1,\n  'KY',\n  datetime.date(2016, 7, 5),\n  70,\n  2,\n  1,\n  '20160406',\n  None,\n  None,\n  'G',\n  'O',\n  None,\n  'M',\n  '1946',\n  '07042016',\n  'F',\n  None,\n  'AA',\n  55699842033.0,\n  '09443',\n  'WT',\n  'KROC',\n  '-77.67240142822266, 43.118900299072266',\n  'ROC',\n  'large_airport',\n  'ROC',\n  'Greater Rochester International Airport',\n  'Rochester',\n  559,\n  'KROC',\n  'US-NY',\n  'US'),\n (2742701,\n  2016,\n  4,\n  254,\n  276,\n  'ROC',\n  datetime.date(2016, 4, 15),\n  1,\n  'MD',\n  datetime.date(2016, 4, 24),\n  54,\n  2,\n  1,\n  '20160415',\n  None,\n  None,\n  'G',\n  'O',\n  None,\n  'M',\n  '1962',\n  '07132016',\n  'F',\n  None,\n  'KE',\n  56185287733.0,\n  '00093',\n  'WT',\n  'KROC',\n  '-77.67240142822266, 43.118900299072266',\n  'ROC',\n  'large_airport',\n  'ROC',\n  'Greater Rochester International Airport',\n  'Rochester',\n  559,\n  'KROC',\n  'US-NY',\n  'US'),\n (2348465,\n  2016,\n  4,\n  209,\n  209,\n  'ROC',\n  datetime.date(2016, 4, 13),\n  1,\n  'HI',\n  datetime.date(2016, 4, 16),\n  37,\n  2,\n  1,\n  '20160413',\n  None,\n  None,\n  'O',\n  'O',\n  None,\n  'M',\n  '1979',\n  '07112016',\n  None,\n  None,\n  'DL',\n  56082586133.0,\n  '00598',\n  'WT',\n  'KROC',\n  '-77.67240142822266, 43.118900299072266',\n  'ROC',\n  'large_airport',\n  'ROC',\n  'Greater Rochester International Airport',\n  'Rochester',\n  559,\n  'KROC',\n  'US-NY',\n  'US')]"
     },
     "execution_count": 107,
     "metadata": {},
     "output_type": "execute_result"
    }
   ],
   "source": [
    "cursor.fetchall()"
   ],
   "metadata": {
    "collapsed": false,
    "pycharm": {
     "name": "#%%\n"
    }
   }
  },
  {
   "cell_type": "code",
   "execution_count": 108,
   "outputs": [],
   "source": [
    "conn.commit()"
   ],
   "metadata": {
    "collapsed": false,
    "pycharm": {
     "name": "#%%\n"
    }
   }
  },
  {
   "cell_type": "code",
   "execution_count": 109,
   "outputs": [],
   "source": [
    "conn.close()\n"
   ],
   "metadata": {
    "collapsed": false,
    "pycharm": {
     "name": "#%%\n"
    }
   }
  },
  {
   "cell_type": "code",
   "execution_count": null,
   "outputs": [],
   "source": [
    "cursor.execute(\"select COUNT(*) from immigration;\")\n",
    "conn.commit()"
   ],
   "metadata": {
    "collapsed": false,
    "pycharm": {
     "name": "#%%\n"
    }
   }
  },
  {
   "cell_type": "code",
   "execution_count": null,
   "outputs": [],
   "source": [
    "cursor.fetchall()"
   ],
   "metadata": {
    "collapsed": false,
    "pycharm": {
     "name": "#%%\n"
    }
   }
  },
  {
   "cell_type": "code",
   "execution_count": 18,
   "outputs": [],
   "source": [
    "cursor.execute(\"select oid as database_id, datname as database_name, datallowconn as allow_connect,\"\n",
    "               \" datconnlimit as connection_limit from pg_database order by oid;\")\n",
    "conn.commit()"
   ],
   "metadata": {
    "collapsed": false,
    "pycharm": {
     "name": "#%%\n"
    }
   }
  },
  {
   "cell_type": "code",
   "execution_count": 20,
   "outputs": [],
   "source": [
    "cursor.fetchall()"
   ],
   "metadata": {
    "collapsed": false,
    "pycharm": {
     "name": "#%%\n"
    }
   }
  },
  {
   "cell_type": "code",
   "execution_count": null,
   "outputs": [],
   "source": [
    "cursor.execute(\"select table_schema, table_name from information_schema.tables where table_schema not in \"\n",
    "               \"('information_schema', 'pg_catalog') and table_type = 'BASE TABLE' order by table_schema, \"\n",
    "               \"table_name;\")\n",
    "conn.commit()"
   ],
   "metadata": {
    "collapsed": false,
    "pycharm": {
     "name": "#%%\n"
    }
   }
  },
  {
   "cell_type": "code",
   "execution_count": null,
   "outputs": [],
   "source": [
    "cursor.fetchall()"
   ],
   "metadata": {
    "collapsed": false,
    "pycharm": {
     "name": "#%%\n"
    }
   }
  },
  {
   "cell_type": "code",
   "execution_count": 25,
   "outputs": [],
   "source": [
    "cursor.execute(\"select table_schema, table_name from information_schema.tables where table_name = 'immigration' and \"\n",
    "               \"table_schema not in ('information_schema', 'pg_catalog') and table_type = 'BASE TABLE' \"\n",
    "               \"order by table_schema;\")\n",
    "conn.commit()"
   ],
   "metadata": {
    "collapsed": false,
    "pycharm": {
     "name": "#%%\n"
    }
   }
  },
  {
   "cell_type": "code",
   "execution_count": 26,
   "outputs": [
    {
     "data": {
      "text/plain": "[('public', 'immigration')]"
     },
     "execution_count": 26,
     "metadata": {},
     "output_type": "execute_result"
    }
   ],
   "source": [
    "cursor.fetchall()"
   ],
   "metadata": {
    "collapsed": false,
    "pycharm": {
     "name": "#%%\n"
    }
   }
  },
  {
   "cell_type": "code",
   "execution_count": null,
   "outputs": [],
   "source": [],
   "metadata": {
    "collapsed": false,
    "pycharm": {
     "name": "#%%\n"
    }
   }
  }
 ],
 "metadata": {
  "kernelspec": {
   "name": "python3",
   "language": "python",
   "display_name": "Python 3 (ipykernel)"
  },
  "language_info": {
   "codemirror_mode": {
    "name": "ipython",
    "version": 2
   },
   "file_extension": ".py",
   "mimetype": "text/x-python",
   "name": "python",
   "nbconvert_exporter": "python",
   "pygments_lexer": "ipython2",
   "version": "2.7.6"
  }
 },
 "nbformat": 4,
 "nbformat_minor": 0
}