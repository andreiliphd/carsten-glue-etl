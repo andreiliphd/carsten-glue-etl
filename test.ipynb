{
 "cells": [
  {
   "cell_type": "code",
   "execution_count": 1,
   "metadata": {
    "collapsed": true
   },
   "outputs": [],
   "source": [
    "import psycopg2\n",
    "import configparser"
   ]
  },
  {
   "cell_type": "code",
   "execution_count": 2,
   "outputs": [
    {
     "data": {
      "text/plain": "['dwh.cfg']"
     },
     "execution_count": 2,
     "metadata": {},
     "output_type": "execute_result"
    }
   ],
   "source": [
    "config = configparser.ConfigParser()\n",
    "config.read(\"dwh.cfg\")"
   ],
   "metadata": {
    "collapsed": false,
    "pycharm": {
     "name": "#%%\n"
    }
   }
  },
  {
   "cell_type": "code",
   "execution_count": 17,
   "outputs": [],
   "source": [
    "conn = psycopg2.connect(\"host={} dbname={} user={} password={}\".format(config[\"CLUSTER\"][\"HOST\"],\n",
    "                                                                config[\"IMMIGRATION\"][\"DB_NAME\"],\n",
    "                                                                config[\"CLUSTER\"][\"DB_USER\"],\n",
    "                                                                config[\"CLUSTER\"][\"DB_PASSWORD\"]))"
   ],
   "metadata": {
    "collapsed": false,
    "pycharm": {
     "name": "#%%\n"
    }
   }
  },
  {
   "cell_type": "code",
   "execution_count": 18,
   "outputs": [],
   "source": [
    "cursor = conn.cursor()"
   ],
   "metadata": {
    "collapsed": false,
    "pycharm": {
     "name": "#%%\n"
    }
   }
  },
  {
   "cell_type": "code",
   "execution_count": 5,
   "outputs": [],
   "source": [
    "cursor.execute(\"select * from immigration limit 10;\")\n",
    "conn.commit()"
   ],
   "metadata": {
    "collapsed": false,
    "pycharm": {
     "name": "#%%\n"
    }
   }
  },
  {
   "cell_type": "code",
   "execution_count": 6,
   "outputs": [
    {
     "data": {
      "text/plain": "[(5435004,\n  2016,\n  4,\n  123,\n  123,\n  'DEN',\n  datetime.date(2016, 4, 29),\n  1,\n  'GA',\n  datetime.date(2016, 5, 6),\n  33,\n  1,\n  1,\n  '20160429',\n  None,\n  None,\n  'G',\n  'O',\n  None,\n  'M',\n  '1983',\n  '07272016',\n  'M',\n  None,\n  'KL',\n  59494038133.0,\n  '00621',\n  'WB'),\n (5435005,\n  2016,\n  4,\n  123,\n  123,\n  'DEN',\n  datetime.date(2016, 4, 29),\n  1,\n  'GA',\n  datetime.date(2016, 5, 7),\n  54,\n  2,\n  1,\n  '20160429',\n  None,\n  None,\n  'G',\n  'O',\n  None,\n  'M',\n  '1962',\n  '07272016',\n  'M',\n  None,\n  'KL',\n  59495724933.0,\n  '00621',\n  'WT'),\n (5435006,\n  2016,\n  4,\n  123,\n  123,\n  'DEN',\n  datetime.date(2016, 4, 29),\n  1,\n  'GA',\n  datetime.date(2016, 5, 7),\n  39,\n  1,\n  1,\n  '20160429',\n  None,\n  None,\n  'G',\n  'O',\n  None,\n  'M',\n  '1977',\n  '07272016',\n  'F',\n  None,\n  'KL',\n  59496150133.0,\n  '00621',\n  'WB'),\n (5435007,\n  2016,\n  4,\n  123,\n  123,\n  'DEN',\n  datetime.date(2016, 4, 29),\n  1,\n  'GA',\n  datetime.date(2016, 5, 8),\n  42,\n  2,\n  1,\n  '20160429',\n  None,\n  None,\n  'G',\n  'O',\n  None,\n  'M',\n  '1974',\n  '07272016',\n  'F',\n  None,\n  'DL',\n  59488832433.0,\n  '00919',\n  'WT'),\n (5435008,\n  2016,\n  4,\n  123,\n  123,\n  'DEN',\n  datetime.date(2016, 4, 29),\n  1,\n  'GA',\n  datetime.date(2016, 5, 8),\n  12,\n  2,\n  1,\n  '20160429',\n  None,\n  None,\n  'G',\n  'O',\n  None,\n  'M',\n  '2004',\n  '07272016',\n  'F',\n  None,\n  'DL',\n  59488933233.0,\n  '00919',\n  'WT'),\n (5435009,\n  2016,\n  4,\n  123,\n  123,\n  'DEN',\n  datetime.date(2016, 4, 29),\n  1,\n  'GA',\n  datetime.date(2016, 5, 8),\n  10,\n  2,\n  1,\n  '20160429',\n  None,\n  None,\n  'G',\n  'O',\n  None,\n  'M',\n  '2006',\n  '07272016',\n  'F',\n  None,\n  'DL',\n  59488970933.0,\n  '00919',\n  'WT'),\n (5435010,\n  2016,\n  4,\n  123,\n  123,\n  'DEN',\n  datetime.date(2016, 4, 29),\n  1,\n  'GA',\n  datetime.date(2016, 5, 8),\n  8,\n  2,\n  1,\n  '20160429',\n  None,\n  None,\n  'G',\n  'O',\n  None,\n  'M',\n  '2008',\n  '07272016',\n  'M',\n  None,\n  'DL',\n  59488855333.0,\n  '00919',\n  'WT'),\n (5435011,\n  2016,\n  4,\n  123,\n  123,\n  'DEN',\n  datetime.date(2016, 4, 29),\n  1,\n  'GA',\n  datetime.date(2016, 5, 9),\n  39,\n  2,\n  1,\n  '20160429',\n  None,\n  None,\n  'G',\n  'O',\n  None,\n  'M',\n  '1977',\n  '07272016',\n  'F',\n  None,\n  'DL',\n  59446843633.0,\n  '00071',\n  'WT'),\n (5435012,\n  2016,\n  4,\n  123,\n  123,\n  'DEN',\n  datetime.date(2016, 4, 29),\n  1,\n  'GA',\n  datetime.date(2016, 5, 9),\n  8,\n  2,\n  1,\n  '20160429',\n  None,\n  None,\n  'G',\n  'O',\n  None,\n  'M',\n  '2008',\n  '07272016',\n  'F',\n  None,\n  'DL',\n  59446763933.0,\n  '00071',\n  'WT'),\n (5435013,\n  2016,\n  4,\n  123,\n  123,\n  'DEN',\n  datetime.date(2016, 4, 29),\n  1,\n  'GA',\n  datetime.date(2016, 5, 9),\n  0,\n  2,\n  1,\n  '20160429',\n  None,\n  None,\n  'G',\n  'O',\n  None,\n  'M',\n  '2016',\n  '07272016',\n  'F',\n  None,\n  'DL',\n  59446785933.0,\n  '00071',\n  'WT')]"
     },
     "execution_count": 6,
     "metadata": {},
     "output_type": "execute_result"
    }
   ],
   "source": [
    "cursor.fetchall()"
   ],
   "metadata": {
    "collapsed": false,
    "pycharm": {
     "name": "#%%\n"
    }
   }
  },
  {
   "cell_type": "code",
   "execution_count": 7,
   "outputs": [],
   "source": [
    "cursor.execute(\"select * from airport_codes limit 10;\")\n",
    "conn.commit()"
   ],
   "metadata": {
    "collapsed": false,
    "pycharm": {
     "name": "#%%\n"
    }
   }
  },
  {
   "cell_type": "code",
   "execution_count": 8,
   "outputs": [
    {
     "data": {
      "text/plain": "[('K03N',\n  '169.852005, 11.222',\n  'UTK',\n  'small_airport',\n  '03N',\n  'Utirik Airport',\n  'Utirik Island',\n  4,\n  '03N',\n  'MH-UTI',\n  'MH'),\n ('07FA',\n  '-80.274803161621, 25.325399398804',\n  'OCA',\n  'small_airport',\n  '07FA',\n  'Ocean Reef Club Airport',\n  'Key Largo',\n  8,\n  '07FA',\n  'US-FL',\n  'US'),\n ('',\n  '-162.899994, 61.934601',\n  'PQS',\n  'small_airport',\n  '0AK',\n  'Pilot Station Airport',\n  'Pilot Station',\n  305,\n  '0AK',\n  'US-AK',\n  'US'),\n ('0CO2',\n  '-106.928341, 38.851918',\n  'CSE',\n  'small_airport',\n  '0CO2',\n  'Crested Butte Airpark',\n  'Crested Butte',\n  8980,\n  '0CO2',\n  'US-CO',\n  'US'),\n ('0TE7',\n  '-98.62249755859999, 30.251800537100003',\n  'JCY',\n  'small_airport',\n  '0TE7',\n  'LBJ Ranch Airport',\n  'Johnson City',\n  1515,\n  '0TE7',\n  'US-TX',\n  'US'),\n ('13MA',\n  '-72.31140136719999, 42.223300933800004',\n  'PMX',\n  'small_airport',\n  '13MA',\n  'Metropolitan Airport',\n  'Palmer',\n  418,\n  '13MA',\n  'US-MA',\n  'US'),\n ('13Z',\n  '-131.636993408, 55.6012992859',\n  'WLR',\n  'seaplane_base',\n  '13Z',\n  'Loring Seaplane Base',\n  'Loring',\n  0,\n  '13Z',\n  'US-AK',\n  'US'),\n ('PPIT',\n  '-162.440454, 60.905591',\n  'NUP',\n  'small_airport',\n  '16A',\n  'Nunapitchuk Airport',\n  'Nunapitchuk',\n  12,\n  '16A',\n  'US-AK',\n  'US'),\n ('16K',\n  '-133.597, 55.803',\n  'PTC',\n  'seaplane_base',\n  '16K',\n  'Port Alice Seaplane Base',\n  'Port Alice',\n  0,\n  '16K',\n  'US-AK',\n  'US'),\n ('19AK',\n  '-141.662002563, 59.96900177',\n  'ICY',\n  'small_airport',\n  '19AK',\n  'Icy Bay Airport',\n  'Icy Bay',\n  50,\n  '19AK',\n  'US-AK',\n  'US')]"
     },
     "execution_count": 8,
     "metadata": {},
     "output_type": "execute_result"
    }
   ],
   "source": [
    "cursor.fetchall()"
   ],
   "metadata": {
    "collapsed": false,
    "pycharm": {
     "name": "#%%\n"
    }
   }
  },
  {
   "cell_type": "code",
   "execution_count": 9,
   "outputs": [],
   "source": [
    "cursor.execute(\"select * from state_codes limit 10;\")\n",
    "conn.commit()"
   ],
   "metadata": {
    "collapsed": false,
    "pycharm": {
     "name": "#%%\n"
    }
   }
  },
  {
   "cell_type": "code",
   "execution_count": 10,
   "outputs": [
    {
     "data": {
      "text/plain": "[('Silver Spring',\n  'Maryland',\n  33.8,\n  40601,\n  41862,\n  82463,\n  1562,\n  30908,\n  2.6,\n  'MD',\n  'Hispanic or Latino',\n  25924),\n ('Quincy',\n  'Massachusetts',\n  41.0,\n  44129,\n  49500,\n  93629,\n  4147,\n  32935,\n  2.39,\n  'MA',\n  'White',\n  58723),\n ('Hoover',\n  'Alabama',\n  38.5,\n  38040,\n  46799,\n  84839,\n  4819,\n  8229,\n  2.58,\n  'AL',\n  'Asian',\n  4759),\n ('Rancho Cucamonga',\n  'California',\n  34.5,\n  88127,\n  87105,\n  175232,\n  5821,\n  33878,\n  3.18,\n  'CA',\n  'Black or African-American',\n  24437),\n ('Newark',\n  'New Jersey',\n  34.6,\n  138040,\n  143873,\n  281913,\n  5829,\n  86253,\n  2.73,\n  'NJ',\n  'White',\n  76402),\n ('Peoria',\n  'Illinois',\n  33.1,\n  56229,\n  62432,\n  118661,\n  6634,\n  7517,\n  2.4,\n  'IL',\n  'American Indian and Alaska Native',\n  1343),\n ('Avondale',\n  'Arizona',\n  29.1,\n  38712,\n  41971,\n  80683,\n  4815,\n  8355,\n  3.18,\n  'AZ',\n  'Black or African-American',\n  11592),\n ('West Covina',\n  'California',\n  39.8,\n  51629,\n  56860,\n  108489,\n  3800,\n  37038,\n  3.56,\n  'CA',\n  'Asian',\n  32716),\n (\"O'Fallon\",\n  'Missouri',\n  36.0,\n  41762,\n  43270,\n  85032,\n  5783,\n  3269,\n  2.77,\n  'MO',\n  'Hispanic or Latino',\n  2583),\n ('High Point',\n  'North Carolina',\n  35.5,\n  51751,\n  58077,\n  109828,\n  5204,\n  16315,\n  2.65,\n  'NC',\n  'Asian',\n  11060)]"
     },
     "execution_count": 10,
     "metadata": {},
     "output_type": "execute_result"
    }
   ],
   "source": [
    "cursor.fetchall()"
   ],
   "metadata": {
    "collapsed": false,
    "pycharm": {
     "name": "#%%\n"
    }
   }
  },
  {
   "cell_type": "code",
   "execution_count": 11,
   "outputs": [],
   "source": [
    "cursor.execute(\"select * from immigration im JOIN airport_codes ac ON im.i94port = ac.iata_code \"\n",
    "               \"where im.i94port = 'ROC' limit 20;\")\n",
    "conn.commit()"
   ],
   "metadata": {
    "collapsed": false,
    "pycharm": {
     "name": "#%%\n"
    }
   }
  },
  {
   "cell_type": "code",
   "execution_count": 12,
   "outputs": [
    {
     "data": {
      "text/plain": "[(4554232,\n  2016,\n  4,\n  272,\n  272,\n  'ROC',\n  datetime.date(2016, 4, 24),\n  1,\n  'NY',\n  datetime.date(2016, 6, 15),\n  1,\n  2,\n  1,\n  '20160424',\n  None,\n  None,\n  'O',\n  'O',\n  None,\n  'M',\n  '2015',\n  '10232016',\n  None,\n  None,\n  'KU',\n  94452198630.0,\n  '00117',\n  'B2',\n  'KROC',\n  '-77.67240142822266, 43.118900299072266',\n  'ROC',\n  'large_airport',\n  'ROC',\n  'Greater Rochester International Airport',\n  'Rochester',\n  559,\n  'KROC',\n  'US-NY',\n  'US'),\n (4554233,\n  2016,\n  4,\n  272,\n  272,\n  'ROC',\n  datetime.date(2016, 4, 24),\n  1,\n  'NY',\n  datetime.date(2016, 6, 24),\n  42,\n  2,\n  1,\n  '20160424',\n  None,\n  None,\n  'O',\n  'O',\n  None,\n  'M',\n  '1974',\n  '10232016',\n  None,\n  None,\n  'KU',\n  94451620130.0,\n  '00117',\n  'B2',\n  'KROC',\n  '-77.67240142822266, 43.118900299072266',\n  'ROC',\n  'large_airport',\n  'ROC',\n  'Greater Rochester International Airport',\n  'Rochester',\n  559,\n  'KROC',\n  'US-NY',\n  'US'),\n (2358606,\n  2016,\n  4,\n  245,\n  245,\n  'ROC',\n  datetime.date(2016, 4, 13),\n  1,\n  'NJ',\n  None,\n  86,\n  2,\n  1,\n  '20160413',\n  None,\n  None,\n  'O',\n  None,\n  None,\n  None,\n  '1930',\n  '10122016',\n  None,\n  None,\n  'CZ',\n  93384716430.0,\n  '00399',\n  'B2',\n  'KROC',\n  '-77.67240142822266, 43.118900299072266',\n  'ROC',\n  'large_airport',\n  'ROC',\n  'Greater Rochester International Airport',\n  'Rochester',\n  559,\n  'KROC',\n  'US-NY',\n  'US'),\n (2358607,\n  2016,\n  4,\n  245,\n  245,\n  'ROC',\n  datetime.date(2016, 4, 13),\n  1,\n  'NJ',\n  None,\n  58,\n  2,\n  1,\n  '20160413',\n  None,\n  None,\n  'O',\n  None,\n  None,\n  None,\n  '1958',\n  '10122016',\n  None,\n  None,\n  'CZ',\n  93384717330.0,\n  '00399',\n  'B2',\n  'KROC',\n  '-77.67240142822266, 43.118900299072266',\n  'ROC',\n  'large_airport',\n  'ROC',\n  'Greater Rochester International Airport',\n  'Rochester',\n  559,\n  'KROC',\n  'US-NY',\n  'US'),\n (5441899,\n  2016,\n  4,\n  129,\n  129,\n  'ROC',\n  datetime.date(2016, 4, 29),\n  1,\n  'NY',\n  datetime.date(2016, 5, 2),\n  18,\n  2,\n  1,\n  '20160429',\n  None,\n  None,\n  'T',\n  'O',\n  None,\n  'M',\n  '1998',\n  '07272016',\n  'M',\n  None,\n  'IB',\n  901021085.0,\n  '6251',\n  'WT',\n  'KROC',\n  '-77.67240142822266, 43.118900299072266',\n  'ROC',\n  'large_airport',\n  'ROC',\n  'Greater Rochester International Airport',\n  'Rochester',\n  559,\n  'KROC',\n  'US-NY',\n  'US'),\n (2359039,\n  2016,\n  4,\n  245,\n  245,\n  'ROC',\n  datetime.date(2016, 4, 12),\n  1,\n  'CA',\n  datetime.date(2016, 4, 24),\n  20,\n  2,\n  1,\n  '20160413',\n  None,\n  None,\n  'G',\n  'O',\n  None,\n  'M',\n  '1996',\n  '10112016',\n  'F',\n  None,\n  'OZ',\n  93378459230.0,\n  '00204',\n  'B2',\n  'KROC',\n  '-77.67240142822266, 43.118900299072266',\n  'ROC',\n  'large_airport',\n  'ROC',\n  'Greater Rochester International Airport',\n  'Rochester',\n  559,\n  'KROC',\n  'US-NY',\n  'US'),\n (2372693,\n  2016,\n  4,\n  260,\n  260,\n  'ROC',\n  datetime.date(2016, 4, 13),\n  1,\n  'CA',\n  datetime.date(2016, 5, 8),\n  40,\n  2,\n  1,\n  '20160413',\n  'MNL',\n  None,\n  'G',\n  'O',\n  None,\n  'M',\n  '1976',\n  '10122016',\n  'M',\n  None,\n  'CI',\n  93453540730.0,\n  '00004',\n  'B2',\n  'KROC',\n  '-77.67240142822266, 43.118900299072266',\n  'ROC',\n  'large_airport',\n  'ROC',\n  'Greater Rochester International Airport',\n  'Rochester',\n  559,\n  'KROC',\n  'US-NY',\n  'US'),\n (1432033,\n  2016,\n  4,\n  504,\n  504,\n  'ROC',\n  datetime.date(2016, 4, 8),\n  1,\n  None,\n  datetime.date(2016, 4, 9),\n  57,\n  2,\n  1,\n  '20160408',\n  None,\n  None,\n  'K',\n  'O',\n  None,\n  'M',\n  '1959',\n  '10082016',\n  'M',\n  None,\n  'UA',\n  93040100130.0,\n  '01022',\n  'B2',\n  'KROC',\n  '-77.67240142822266, 43.118900299072266',\n  'ROC',\n  'large_airport',\n  'ROC',\n  'Greater Rochester International Airport',\n  'Rochester',\n  559,\n  'KROC',\n  'US-NY',\n  'US'),\n (616270,\n  2016,\n  4,\n  689,\n  689,\n  'ROC',\n  datetime.date(2016, 4, 3),\n  1,\n  'CA',\n  datetime.date(2016, 4, 10),\n  56,\n  2,\n  1,\n  '20160403',\n  'SPL',\n  None,\n  'G',\n  'O',\n  None,\n  'M',\n  '1960',\n  '10022016',\n  'F',\n  None,\n  'AA',\n  92620578530.0,\n  '00962',\n  'B2',\n  'KROC',\n  '-77.67240142822266, 43.118900299072266',\n  'ROC',\n  'large_airport',\n  'ROC',\n  'Greater Rochester International Airport',\n  'Rochester',\n  559,\n  'KROC',\n  'US-NY',\n  'US'),\n (2476294,\n  2016,\n  4,\n  694,\n  694,\n  'ROC',\n  datetime.date(2016, 4, 13),\n  1,\n  'FL',\n  datetime.date(2016, 4, 18),\n  42,\n  2,\n  1,\n  '20160413',\n  'LMA',\n  None,\n  'G',\n  'O',\n  None,\n  'M',\n  '1974',\n  '10122016',\n  'F',\n  None,\n  'LA',\n  93441378330.0,\n  '02510',\n  'B2',\n  'KROC',\n  '-77.67240142822266, 43.118900299072266',\n  'ROC',\n  'large_airport',\n  'ROC',\n  'Greater Rochester International Airport',\n  'Rochester',\n  559,\n  'KROC',\n  'US-NY',\n  'US'),\n (96442,\n  2016,\n  4,\n  574,\n  509,\n  'ROC',\n  datetime.date(2016, 4, 1),\n  1,\n  'FL',\n  datetime.date(2016, 4, 6),\n  50,\n  2,\n  1,\n  '20160401',\n  None,\n  None,\n  'G',\n  'O',\n  None,\n  'M',\n  '1966',\n  '09302016',\n  'F',\n  None,\n  'YX',\n  92466106430.0,\n  '04337',\n  'B2',\n  'KROC',\n  '-77.67240142822266, 43.118900299072266',\n  'ROC',\n  'large_airport',\n  'ROC',\n  'Greater Rochester International Airport',\n  'Rochester',\n  559,\n  'KROC',\n  'US-NY',\n  'US'),\n (3293902,\n  2016,\n  4,\n  692,\n  692,\n  'ROC',\n  datetime.date(2016, 4, 16),\n  1,\n  'NV',\n  datetime.date(2016, 4, 28),\n  40,\n  2,\n  1,\n  '20160417',\n  None,\n  None,\n  'G',\n  'O',\n  None,\n  'M',\n  '1976',\n  '10152016',\n  'M',\n  None,\n  'CM',\n  93759438830.0,\n  '00252',\n  'B2',\n  'KROC',\n  '-77.67240142822266, 43.118900299072266',\n  'ROC',\n  'large_airport',\n  'ROC',\n  'Greater Rochester International Airport',\n  'Rochester',\n  559,\n  'KROC',\n  'US-NY',\n  'US'),\n (5957218,\n  2016,\n  4,\n  254,\n  276,\n  'ROC',\n  datetime.date(2016, 4, 1),\n  1,\n  None,\n  datetime.date(2016, 4, 4),\n  5,\n  2,\n  1,\n  '20160610',\n  None,\n  None,\n  'A',\n  'D',\n  None,\n  'M',\n  '2011',\n  '05152016',\n  'F',\n  None,\n  '7C',\n  45131317033.0,\n  '03404',\n  'GMT',\n  'KROC',\n  '-77.67240142822266, 43.118900299072266',\n  'ROC',\n  'large_airport',\n  'ROC',\n  'Greater Rochester International Airport',\n  'Rochester',\n  559,\n  'KROC',\n  'US-NY',\n  'US'),\n (2878840,\n  2016,\n  4,\n  111,\n  111,\n  'ROC',\n  datetime.date(2016, 4, 16),\n  1,\n  'NV',\n  datetime.date(2016, 4, 21),\n  44,\n  2,\n  1,\n  '20160416',\n  None,\n  None,\n  'O',\n  'O',\n  None,\n  'M',\n  '1972',\n  '07142016',\n  None,\n  None,\n  'DL',\n  56246539333.0,\n  '00099',\n  'WT',\n  'KROC',\n  '-77.67240142822266, 43.118900299072266',\n  'ROC',\n  'large_airport',\n  'ROC',\n  'Greater Rochester International Airport',\n  'Rochester',\n  559,\n  'KROC',\n  'US-NY',\n  'US'),\n (2476308,\n  2016,\n  4,\n  694,\n  694,\n  'ROC',\n  datetime.date(2016, 4, 13),\n  1,\n  'FL',\n  datetime.date(2016, 4, 19),\n  38,\n  2,\n  1,\n  '20160413',\n  'LMA',\n  None,\n  'G',\n  'O',\n  None,\n  'M',\n  '1978',\n  '10122016',\n  'F',\n  None,\n  'LA',\n  93395980430.0,\n  '02514',\n  'B2',\n  'KROC',\n  '-77.67240142822266, 43.118900299072266',\n  'ROC',\n  'large_airport',\n  'ROC',\n  'Greater Rochester International Airport',\n  'Rochester',\n  559,\n  'KROC',\n  'US-NY',\n  'US'),\n (1027956,\n  2016,\n  4,\n  209,\n  209,\n  'ROC',\n  datetime.date(2016, 4, 6),\n  1,\n  'CA',\n  datetime.date(2016, 4, 10),\n  56,\n  1,\n  1,\n  '20160406',\n  None,\n  None,\n  'O',\n  'K',\n  None,\n  'M',\n  '1960',\n  '07042016',\n  None,\n  None,\n  'AA',\n  55739181833.0,\n  '00026',\n  'WB',\n  'KROC',\n  '-77.67240142822266, 43.118900299072266',\n  'ROC',\n  'large_airport',\n  'ROC',\n  'Greater Rochester International Airport',\n  'Rochester',\n  559,\n  'KROC',\n  'US-NY',\n  'US'),\n (210055,\n  2016,\n  4,\n  689,\n  689,\n  'ROC',\n  datetime.date(2016, 4, 1),\n  1,\n  'FL',\n  datetime.date(2016, 4, 16),\n  70,\n  2,\n  1,\n  '20160401',\n  'SPL',\n  None,\n  'G',\n  'O',\n  None,\n  'M',\n  '1946',\n  '09302016',\n  'F',\n  None,\n  'CM',\n  92458006830.0,\n  '00226',\n  'B2',\n  'KROC',\n  '-77.67240142822266, 43.118900299072266',\n  'ROC',\n  'large_airport',\n  'ROC',\n  'Greater Rochester International Airport',\n  'Rochester',\n  559,\n  'KROC',\n  'US-NY',\n  'US'),\n (1037531,\n  2016,\n  4,\n  245,\n  245,\n  'ROC',\n  datetime.date(2016, 4, 6),\n  1,\n  None,\n  datetime.date(2016, 4, 7),\n  60,\n  2,\n  1,\n  '20160406',\n  'PNM',\n  None,\n  'G',\n  'O',\n  None,\n  'M',\n  '1956',\n  '10052016',\n  'M',\n  None,\n  'CM',\n  92910290030.0,\n  '00472',\n  'B2',\n  'KROC',\n  '-77.67240142822266, 43.118900299072266',\n  'ROC',\n  'large_airport',\n  'ROC',\n  'Greater Rochester International Airport',\n  'Rochester',\n  559,\n  'KROC',\n  'US-NY',\n  'US'),\n (1037532,\n  2016,\n  4,\n  245,\n  245,\n  'ROC',\n  datetime.date(2016, 4, 6),\n  1,\n  None,\n  datetime.date(2016, 4, 7),\n  58,\n  2,\n  1,\n  '20160406',\n  'PNM',\n  None,\n  'G',\n  'O',\n  None,\n  'M',\n  '1958',\n  '10052016',\n  'M',\n  None,\n  'CM',\n  92909658530.0,\n  '00472',\n  'B2',\n  'KROC',\n  '-77.67240142822266, 43.118900299072266',\n  'ROC',\n  'large_airport',\n  'ROC',\n  'Greater Rochester International Airport',\n  'Rochester',\n  559,\n  'KROC',\n  'US-NY',\n  'US'),\n (3801939,\n  2016,\n  4,\n  582,\n  582,\n  'ROC',\n  datetime.date(2016, 4, 20),\n  1,\n  None,\n  datetime.date(2016, 4, 29),\n  55,\n  2,\n  1,\n  '20160420',\n  'TJT',\n  None,\n  'G',\n  'I',\n  None,\n  'M',\n  '1961',\n  '10192016',\n  'M',\n  None,\n  'DL',\n  94058374830.0,\n  '00962',\n  'B2',\n  'KROC',\n  '-77.67240142822266, 43.118900299072266',\n  'ROC',\n  'large_airport',\n  'ROC',\n  'Greater Rochester International Airport',\n  'Rochester',\n  559,\n  'KROC',\n  'US-NY',\n  'US')]"
     },
     "execution_count": 12,
     "metadata": {},
     "output_type": "execute_result"
    }
   ],
   "source": [
    "cursor.fetchall()"
   ],
   "metadata": {
    "collapsed": false,
    "pycharm": {
     "name": "#%%\n"
    }
   }
  },
  {
   "cell_type": "code",
   "execution_count": 13,
   "outputs": [],
   "source": [
    "conn.commit()"
   ],
   "metadata": {
    "collapsed": false,
    "pycharm": {
     "name": "#%%\n"
    }
   }
  },
  {
   "cell_type": "code",
   "execution_count": 23,
   "outputs": [],
   "source": [
    "cursor.execute(\"select COUNT(*) from airport_codes;\")\n",
    "conn.commit()"
   ],
   "metadata": {
    "collapsed": false,
    "pycharm": {
     "name": "#%%\n"
    }
   }
  },
  {
   "cell_type": "code",
   "execution_count": 24,
   "outputs": [
    {
     "data": {
      "text/plain": "[(9189,)]"
     },
     "execution_count": 24,
     "metadata": {},
     "output_type": "execute_result"
    }
   ],
   "source": [
    "cursor.fetchall()"
   ],
   "metadata": {
    "collapsed": false,
    "pycharm": {
     "name": "#%%\n"
    }
   }
  },
  {
   "cell_type": "code",
   "execution_count": 18,
   "outputs": [],
   "source": [
    "cursor.execute(\"select oid as database_id, datname as database_name, datallowconn as allow_connect,\"\n",
    "               \" datconnlimit as connection_limit from pg_database order by oid;\")\n",
    "conn.commit()"
   ],
   "metadata": {
    "collapsed": false,
    "pycharm": {
     "name": "#%%\n"
    }
   }
  },
  {
   "cell_type": "code",
   "execution_count": 20,
   "outputs": [],
   "source": [
    "cursor.fetchall()"
   ],
   "metadata": {
    "collapsed": false,
    "pycharm": {
     "name": "#%%\n"
    }
   }
  },
  {
   "cell_type": "code",
   "execution_count": null,
   "outputs": [],
   "source": [
    "cursor.execute(\"select table_schema, table_name from information_schema.tables where table_schema not in \"\n",
    "               \"('information_schema', 'pg_catalog') and table_type = 'BASE TABLE' order by table_schema, \"\n",
    "               \"table_name;\")\n",
    "conn.commit()"
   ],
   "metadata": {
    "collapsed": false,
    "pycharm": {
     "name": "#%%\n"
    }
   }
  },
  {
   "cell_type": "code",
   "execution_count": null,
   "outputs": [],
   "source": [
    "cursor.fetchall()"
   ],
   "metadata": {
    "collapsed": false,
    "pycharm": {
     "name": "#%%\n"
    }
   }
  },
  {
   "cell_type": "code",
   "execution_count": 25,
   "outputs": [],
   "source": [
    "cursor.execute(\"select table_schema, table_name from information_schema.tables where table_name = 'immigration' and \"\n",
    "               \"table_schema not in ('information_schema', 'pg_catalog') and table_type = 'BASE TABLE' \"\n",
    "               \"order by table_schema;\")\n",
    "conn.commit()"
   ],
   "metadata": {
    "collapsed": false,
    "pycharm": {
     "name": "#%%\n"
    }
   }
  },
  {
   "cell_type": "code",
   "execution_count": 26,
   "outputs": [
    {
     "data": {
      "text/plain": "[('public', 'immigration')]"
     },
     "execution_count": 26,
     "metadata": {},
     "output_type": "execute_result"
    }
   ],
   "source": [
    "cursor.fetchall()"
   ],
   "metadata": {
    "collapsed": false,
    "pycharm": {
     "name": "#%%\n"
    }
   }
  },
  {
   "cell_type": "code",
   "execution_count": null,
   "outputs": [],
   "source": [],
   "metadata": {
    "collapsed": false,
    "pycharm": {
     "name": "#%%\n"
    }
   }
  }
 ],
 "metadata": {
  "kernelspec": {
   "name": "python3",
   "language": "python",
   "display_name": "Python 3 (ipykernel)"
  },
  "language_info": {
   "codemirror_mode": {
    "name": "ipython",
    "version": 2
   },
   "file_extension": ".py",
   "mimetype": "text/x-python",
   "name": "python",
   "nbconvert_exporter": "python",
   "pygments_lexer": "ipython2",
   "version": "2.7.6"
  }
 },
 "nbformat": 4,
 "nbformat_minor": 0
}