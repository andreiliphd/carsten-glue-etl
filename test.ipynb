{
 "cells": [
  {
   "cell_type": "code",
   "execution_count": 32,
   "metadata": {
    "collapsed": true
   },
   "outputs": [],
   "source": [
    "import psycopg2\n",
    "import configparser\n",
    "import pandas as pd"
   ]
  },
  {
   "cell_type": "code",
   "execution_count": 26,
   "outputs": [
    {
     "data": {
      "text/plain": "['dwh.cfg']"
     },
     "execution_count": 26,
     "metadata": {},
     "output_type": "execute_result"
    }
   ],
   "source": [
    "config = configparser.ConfigParser()\n",
    "config.read(\"dwh.cfg\")"
   ],
   "metadata": {
    "collapsed": false,
    "pycharm": {
     "name": "#%%\n"
    }
   }
  },
  {
   "cell_type": "code",
   "execution_count": 45,
   "outputs": [],
   "source": [
    "conn = psycopg2.connect(\"host={} dbname={} user={} password={}\".format(config[\"CLUSTER\"][\"HOST\"],\n",
    "                                                                config[\"IMMIGRATION\"][\"DB_NAME\"],\n",
    "                                                                config[\"CLUSTER\"][\"DB_USER\"],\n",
    "                                                                config[\"CLUSTER\"][\"DB_PASSWORD\"]))"
   ],
   "metadata": {
    "collapsed": false,
    "pycharm": {
     "name": "#%%\n"
    }
   }
  },
  {
   "cell_type": "code",
   "execution_count": null,
   "outputs": [],
   "source": [
    "cursor = conn.cursor()"
   ],
   "metadata": {
    "collapsed": false,
    "pycharm": {
     "name": "#%%\n",
     "is_executing": true
    }
   }
  },
  {
   "cell_type": "code",
   "execution_count": null,
   "outputs": [],
   "source": [
    "pd.read_sql_query(\"SELECT pid, now() - pg_stat_activity.query_start AS duration, \"\n",
    "               \"query, state FROM pg_stat_activity WHERE (now() - pg_stat_activity.query_start) > interval '5 minutes';\",\n",
    "                  conn)"
   ],
   "metadata": {
    "collapsed": false,
    "pycharm": {
     "name": "#%%\n",
     "is_executing": true
    }
   }
  },
  {
   "cell_type": "code",
   "execution_count": null,
   "outputs": [],
   "source": [
    "cursor.fetchall()"
   ],
   "metadata": {
    "collapsed": false,
    "pycharm": {
     "name": "#%%\n"
    }
   }
  },
  {
   "cell_type": "code",
   "execution_count": 69,
   "outputs": [],
   "source": [
    "cursor.execute(\"SELECT pg_terminate_backend(2975);\")\n",
    "conn.commit()"
   ],
   "metadata": {
    "collapsed": false,
    "pycharm": {
     "name": "#%%\n"
    }
   }
  },
  {
   "cell_type": "code",
   "execution_count": 67,
   "outputs": [
    {
     "data": {
      "text/plain": "[(True,)]"
     },
     "execution_count": 67,
     "metadata": {},
     "output_type": "execute_result"
    }
   ],
   "source": [
    "cursor.fetchall()"
   ],
   "metadata": {
    "collapsed": false,
    "pycharm": {
     "name": "#%%\n"
    }
   }
  },
  {
   "cell_type": "code",
   "execution_count": 59,
   "outputs": [],
   "source": [
    "conn.commit()\n",
    "cursor.execute(\"end transaction;\")\n",
    "conn.commit()"
   ],
   "metadata": {
    "collapsed": false,
    "pycharm": {
     "name": "#%%\n"
    }
   }
  },
  {
   "cell_type": "code",
   "execution_count": 60,
   "outputs": [
    {
     "ename": "ProgrammingError",
     "evalue": "no results to fetch",
     "output_type": "error",
     "traceback": [
      "\u001B[0;31m---------------------------------------------------------------------------\u001B[0m",
      "\u001B[0;31mProgrammingError\u001B[0m                          Traceback (most recent call last)",
      "\u001B[0;32m/var/folders/ln/mfvx2v1948gftcpjgslxwnd80000gn/T/ipykernel_2347/1136999755.py\u001B[0m in \u001B[0;36m<module>\u001B[0;34m\u001B[0m\n\u001B[0;32m----> 1\u001B[0;31m \u001B[0mcursor\u001B[0m\u001B[0;34m.\u001B[0m\u001B[0mfetchall\u001B[0m\u001B[0;34m(\u001B[0m\u001B[0;34m)\u001B[0m\u001B[0;34m\u001B[0m\u001B[0;34m\u001B[0m\u001B[0m\n\u001B[0m\u001B[1;32m      2\u001B[0m \u001B[0;34m\u001B[0m\u001B[0m\n",
      "\u001B[0;31mProgrammingError\u001B[0m: no results to fetch"
     ]
    }
   ],
   "source": [
    "cursor.fetchall()"
   ],
   "metadata": {
    "collapsed": false,
    "pycharm": {
     "name": "#%%\n"
    }
   }
  },
  {
   "cell_type": "code",
   "execution_count": 11,
   "outputs": [],
   "source": [
    "cursor.execute(\"select * from immigration im JOIN airport_codes ac ON im.i94port = ac.iata_code \"\n",
    "               \"where im.i94port = 'ROC' limit 20;\")\n",
    "conn.commit()"
   ],
   "metadata": {
    "collapsed": false,
    "pycharm": {
     "name": "#%%\n"
    }
   }
  },
  {
   "cell_type": "code",
   "execution_count": 12,
   "outputs": [
    {
     "data": {
      "text/plain": "[(4554232,\n  2016,\n  4,\n  272,\n  272,\n  'ROC',\n  datetime.date(2016, 4, 24),\n  1,\n  'NY',\n  datetime.date(2016, 6, 15),\n  1,\n  2,\n  1,\n  '20160424',\n  None,\n  None,\n  'O',\n  'O',\n  None,\n  'M',\n  '2015',\n  '10232016',\n  None,\n  None,\n  'KU',\n  94452198630.0,\n  '00117',\n  'B2',\n  'KROC',\n  '-77.67240142822266, 43.118900299072266',\n  'ROC',\n  'large_airport',\n  'ROC',\n  'Greater Rochester International Airport',\n  'Rochester',\n  559,\n  'KROC',\n  'US-NY',\n  'US'),\n (4554233,\n  2016,\n  4,\n  272,\n  272,\n  'ROC',\n  datetime.date(2016, 4, 24),\n  1,\n  'NY',\n  datetime.date(2016, 6, 24),\n  42,\n  2,\n  1,\n  '20160424',\n  None,\n  None,\n  'O',\n  'O',\n  None,\n  'M',\n  '1974',\n  '10232016',\n  None,\n  None,\n  'KU',\n  94451620130.0,\n  '00117',\n  'B2',\n  'KROC',\n  '-77.67240142822266, 43.118900299072266',\n  'ROC',\n  'large_airport',\n  'ROC',\n  'Greater Rochester International Airport',\n  'Rochester',\n  559,\n  'KROC',\n  'US-NY',\n  'US'),\n (2358606,\n  2016,\n  4,\n  245,\n  245,\n  'ROC',\n  datetime.date(2016, 4, 13),\n  1,\n  'NJ',\n  None,\n  86,\n  2,\n  1,\n  '20160413',\n  None,\n  None,\n  'O',\n  None,\n  None,\n  None,\n  '1930',\n  '10122016',\n  None,\n  None,\n  'CZ',\n  93384716430.0,\n  '00399',\n  'B2',\n  'KROC',\n  '-77.67240142822266, 43.118900299072266',\n  'ROC',\n  'large_airport',\n  'ROC',\n  'Greater Rochester International Airport',\n  'Rochester',\n  559,\n  'KROC',\n  'US-NY',\n  'US'),\n (2358607,\n  2016,\n  4,\n  245,\n  245,\n  'ROC',\n  datetime.date(2016, 4, 13),\n  1,\n  'NJ',\n  None,\n  58,\n  2,\n  1,\n  '20160413',\n  None,\n  None,\n  'O',\n  None,\n  None,\n  None,\n  '1958',\n  '10122016',\n  None,\n  None,\n  'CZ',\n  93384717330.0,\n  '00399',\n  'B2',\n  'KROC',\n  '-77.67240142822266, 43.118900299072266',\n  'ROC',\n  'large_airport',\n  'ROC',\n  'Greater Rochester International Airport',\n  'Rochester',\n  559,\n  'KROC',\n  'US-NY',\n  'US'),\n (5441899,\n  2016,\n  4,\n  129,\n  129,\n  'ROC',\n  datetime.date(2016, 4, 29),\n  1,\n  'NY',\n  datetime.date(2016, 5, 2),\n  18,\n  2,\n  1,\n  '20160429',\n  None,\n  None,\n  'T',\n  'O',\n  None,\n  'M',\n  '1998',\n  '07272016',\n  'M',\n  None,\n  'IB',\n  901021085.0,\n  '6251',\n  'WT',\n  'KROC',\n  '-77.67240142822266, 43.118900299072266',\n  'ROC',\n  'large_airport',\n  'ROC',\n  'Greater Rochester International Airport',\n  'Rochester',\n  559,\n  'KROC',\n  'US-NY',\n  'US'),\n (2359039,\n  2016,\n  4,\n  245,\n  245,\n  'ROC',\n  datetime.date(2016, 4, 12),\n  1,\n  'CA',\n  datetime.date(2016, 4, 24),\n  20,\n  2,\n  1,\n  '20160413',\n  None,\n  None,\n  'G',\n  'O',\n  None,\n  'M',\n  '1996',\n  '10112016',\n  'F',\n  None,\n  'OZ',\n  93378459230.0,\n  '00204',\n  'B2',\n  'KROC',\n  '-77.67240142822266, 43.118900299072266',\n  'ROC',\n  'large_airport',\n  'ROC',\n  'Greater Rochester International Airport',\n  'Rochester',\n  559,\n  'KROC',\n  'US-NY',\n  'US'),\n (2372693,\n  2016,\n  4,\n  260,\n  260,\n  'ROC',\n  datetime.date(2016, 4, 13),\n  1,\n  'CA',\n  datetime.date(2016, 5, 8),\n  40,\n  2,\n  1,\n  '20160413',\n  'MNL',\n  None,\n  'G',\n  'O',\n  None,\n  'M',\n  '1976',\n  '10122016',\n  'M',\n  None,\n  'CI',\n  93453540730.0,\n  '00004',\n  'B2',\n  'KROC',\n  '-77.67240142822266, 43.118900299072266',\n  'ROC',\n  'large_airport',\n  'ROC',\n  'Greater Rochester International Airport',\n  'Rochester',\n  559,\n  'KROC',\n  'US-NY',\n  'US'),\n (1432033,\n  2016,\n  4,\n  504,\n  504,\n  'ROC',\n  datetime.date(2016, 4, 8),\n  1,\n  None,\n  datetime.date(2016, 4, 9),\n  57,\n  2,\n  1,\n  '20160408',\n  None,\n  None,\n  'K',\n  'O',\n  None,\n  'M',\n  '1959',\n  '10082016',\n  'M',\n  None,\n  'UA',\n  93040100130.0,\n  '01022',\n  'B2',\n  'KROC',\n  '-77.67240142822266, 43.118900299072266',\n  'ROC',\n  'large_airport',\n  'ROC',\n  'Greater Rochester International Airport',\n  'Rochester',\n  559,\n  'KROC',\n  'US-NY',\n  'US'),\n (616270,\n  2016,\n  4,\n  689,\n  689,\n  'ROC',\n  datetime.date(2016, 4, 3),\n  1,\n  'CA',\n  datetime.date(2016, 4, 10),\n  56,\n  2,\n  1,\n  '20160403',\n  'SPL',\n  None,\n  'G',\n  'O',\n  None,\n  'M',\n  '1960',\n  '10022016',\n  'F',\n  None,\n  'AA',\n  92620578530.0,\n  '00962',\n  'B2',\n  'KROC',\n  '-77.67240142822266, 43.118900299072266',\n  'ROC',\n  'large_airport',\n  'ROC',\n  'Greater Rochester International Airport',\n  'Rochester',\n  559,\n  'KROC',\n  'US-NY',\n  'US'),\n (2476294,\n  2016,\n  4,\n  694,\n  694,\n  'ROC',\n  datetime.date(2016, 4, 13),\n  1,\n  'FL',\n  datetime.date(2016, 4, 18),\n  42,\n  2,\n  1,\n  '20160413',\n  'LMA',\n  None,\n  'G',\n  'O',\n  None,\n  'M',\n  '1974',\n  '10122016',\n  'F',\n  None,\n  'LA',\n  93441378330.0,\n  '02510',\n  'B2',\n  'KROC',\n  '-77.67240142822266, 43.118900299072266',\n  'ROC',\n  'large_airport',\n  'ROC',\n  'Greater Rochester International Airport',\n  'Rochester',\n  559,\n  'KROC',\n  'US-NY',\n  'US'),\n (96442,\n  2016,\n  4,\n  574,\n  509,\n  'ROC',\n  datetime.date(2016, 4, 1),\n  1,\n  'FL',\n  datetime.date(2016, 4, 6),\n  50,\n  2,\n  1,\n  '20160401',\n  None,\n  None,\n  'G',\n  'O',\n  None,\n  'M',\n  '1966',\n  '09302016',\n  'F',\n  None,\n  'YX',\n  92466106430.0,\n  '04337',\n  'B2',\n  'KROC',\n  '-77.67240142822266, 43.118900299072266',\n  'ROC',\n  'large_airport',\n  'ROC',\n  'Greater Rochester International Airport',\n  'Rochester',\n  559,\n  'KROC',\n  'US-NY',\n  'US'),\n (3293902,\n  2016,\n  4,\n  692,\n  692,\n  'ROC',\n  datetime.date(2016, 4, 16),\n  1,\n  'NV',\n  datetime.date(2016, 4, 28),\n  40,\n  2,\n  1,\n  '20160417',\n  None,\n  None,\n  'G',\n  'O',\n  None,\n  'M',\n  '1976',\n  '10152016',\n  'M',\n  None,\n  'CM',\n  93759438830.0,\n  '00252',\n  'B2',\n  'KROC',\n  '-77.67240142822266, 43.118900299072266',\n  'ROC',\n  'large_airport',\n  'ROC',\n  'Greater Rochester International Airport',\n  'Rochester',\n  559,\n  'KROC',\n  'US-NY',\n  'US'),\n (5957218,\n  2016,\n  4,\n  254,\n  276,\n  'ROC',\n  datetime.date(2016, 4, 1),\n  1,\n  None,\n  datetime.date(2016, 4, 4),\n  5,\n  2,\n  1,\n  '20160610',\n  None,\n  None,\n  'A',\n  'D',\n  None,\n  'M',\n  '2011',\n  '05152016',\n  'F',\n  None,\n  '7C',\n  45131317033.0,\n  '03404',\n  'GMT',\n  'KROC',\n  '-77.67240142822266, 43.118900299072266',\n  'ROC',\n  'large_airport',\n  'ROC',\n  'Greater Rochester International Airport',\n  'Rochester',\n  559,\n  'KROC',\n  'US-NY',\n  'US'),\n (2878840,\n  2016,\n  4,\n  111,\n  111,\n  'ROC',\n  datetime.date(2016, 4, 16),\n  1,\n  'NV',\n  datetime.date(2016, 4, 21),\n  44,\n  2,\n  1,\n  '20160416',\n  None,\n  None,\n  'O',\n  'O',\n  None,\n  'M',\n  '1972',\n  '07142016',\n  None,\n  None,\n  'DL',\n  56246539333.0,\n  '00099',\n  'WT',\n  'KROC',\n  '-77.67240142822266, 43.118900299072266',\n  'ROC',\n  'large_airport',\n  'ROC',\n  'Greater Rochester International Airport',\n  'Rochester',\n  559,\n  'KROC',\n  'US-NY',\n  'US'),\n (2476308,\n  2016,\n  4,\n  694,\n  694,\n  'ROC',\n  datetime.date(2016, 4, 13),\n  1,\n  'FL',\n  datetime.date(2016, 4, 19),\n  38,\n  2,\n  1,\n  '20160413',\n  'LMA',\n  None,\n  'G',\n  'O',\n  None,\n  'M',\n  '1978',\n  '10122016',\n  'F',\n  None,\n  'LA',\n  93395980430.0,\n  '02514',\n  'B2',\n  'KROC',\n  '-77.67240142822266, 43.118900299072266',\n  'ROC',\n  'large_airport',\n  'ROC',\n  'Greater Rochester International Airport',\n  'Rochester',\n  559,\n  'KROC',\n  'US-NY',\n  'US'),\n (1027956,\n  2016,\n  4,\n  209,\n  209,\n  'ROC',\n  datetime.date(2016, 4, 6),\n  1,\n  'CA',\n  datetime.date(2016, 4, 10),\n  56,\n  1,\n  1,\n  '20160406',\n  None,\n  None,\n  'O',\n  'K',\n  None,\n  'M',\n  '1960',\n  '07042016',\n  None,\n  None,\n  'AA',\n  55739181833.0,\n  '00026',\n  'WB',\n  'KROC',\n  '-77.67240142822266, 43.118900299072266',\n  'ROC',\n  'large_airport',\n  'ROC',\n  'Greater Rochester International Airport',\n  'Rochester',\n  559,\n  'KROC',\n  'US-NY',\n  'US'),\n (210055,\n  2016,\n  4,\n  689,\n  689,\n  'ROC',\n  datetime.date(2016, 4, 1),\n  1,\n  'FL',\n  datetime.date(2016, 4, 16),\n  70,\n  2,\n  1,\n  '20160401',\n  'SPL',\n  None,\n  'G',\n  'O',\n  None,\n  'M',\n  '1946',\n  '09302016',\n  'F',\n  None,\n  'CM',\n  92458006830.0,\n  '00226',\n  'B2',\n  'KROC',\n  '-77.67240142822266, 43.118900299072266',\n  'ROC',\n  'large_airport',\n  'ROC',\n  'Greater Rochester International Airport',\n  'Rochester',\n  559,\n  'KROC',\n  'US-NY',\n  'US'),\n (1037531,\n  2016,\n  4,\n  245,\n  245,\n  'ROC',\n  datetime.date(2016, 4, 6),\n  1,\n  None,\n  datetime.date(2016, 4, 7),\n  60,\n  2,\n  1,\n  '20160406',\n  'PNM',\n  None,\n  'G',\n  'O',\n  None,\n  'M',\n  '1956',\n  '10052016',\n  'M',\n  None,\n  'CM',\n  92910290030.0,\n  '00472',\n  'B2',\n  'KROC',\n  '-77.67240142822266, 43.118900299072266',\n  'ROC',\n  'large_airport',\n  'ROC',\n  'Greater Rochester International Airport',\n  'Rochester',\n  559,\n  'KROC',\n  'US-NY',\n  'US'),\n (1037532,\n  2016,\n  4,\n  245,\n  245,\n  'ROC',\n  datetime.date(2016, 4, 6),\n  1,\n  None,\n  datetime.date(2016, 4, 7),\n  58,\n  2,\n  1,\n  '20160406',\n  'PNM',\n  None,\n  'G',\n  'O',\n  None,\n  'M',\n  '1958',\n  '10052016',\n  'M',\n  None,\n  'CM',\n  92909658530.0,\n  '00472',\n  'B2',\n  'KROC',\n  '-77.67240142822266, 43.118900299072266',\n  'ROC',\n  'large_airport',\n  'ROC',\n  'Greater Rochester International Airport',\n  'Rochester',\n  559,\n  'KROC',\n  'US-NY',\n  'US'),\n (3801939,\n  2016,\n  4,\n  582,\n  582,\n  'ROC',\n  datetime.date(2016, 4, 20),\n  1,\n  None,\n  datetime.date(2016, 4, 29),\n  55,\n  2,\n  1,\n  '20160420',\n  'TJT',\n  None,\n  'G',\n  'I',\n  None,\n  'M',\n  '1961',\n  '10192016',\n  'M',\n  None,\n  'DL',\n  94058374830.0,\n  '00962',\n  'B2',\n  'KROC',\n  '-77.67240142822266, 43.118900299072266',\n  'ROC',\n  'large_airport',\n  'ROC',\n  'Greater Rochester International Airport',\n  'Rochester',\n  559,\n  'KROC',\n  'US-NY',\n  'US')]"
     },
     "execution_count": 12,
     "metadata": {},
     "output_type": "execute_result"
    }
   ],
   "source": [
    "cursor.fetchall()"
   ],
   "metadata": {
    "collapsed": false,
    "pycharm": {
     "name": "#%%\n"
    }
   }
  },
  {
   "cell_type": "code",
   "execution_count": 52,
   "outputs": [],
   "source": [
    "conn.commit()"
   ],
   "metadata": {
    "collapsed": false,
    "pycharm": {
     "name": "#%%\n"
    }
   }
  },
  {
   "cell_type": "code",
   "execution_count": 23,
   "outputs": [],
   "source": [
    "cursor.execute(\"select COUNT(*) from airport_codes;\")\n",
    "conn.commit()"
   ],
   "metadata": {
    "collapsed": false,
    "pycharm": {
     "name": "#%%\n"
    }
   }
  },
  {
   "cell_type": "code",
   "execution_count": 24,
   "outputs": [
    {
     "data": {
      "text/plain": "[(9189,)]"
     },
     "execution_count": 24,
     "metadata": {},
     "output_type": "execute_result"
    }
   ],
   "source": [
    "cursor.fetchall()"
   ],
   "metadata": {
    "collapsed": false,
    "pycharm": {
     "name": "#%%\n"
    }
   }
  },
  {
   "cell_type": "code",
   "execution_count": 18,
   "outputs": [],
   "source": [
    "cursor.execute(\"select oid as database_id, datname as database_name, datallowconn as allow_connect,\"\n",
    "               \" datconnlimit as connection_limit from pg_database order by oid;\")\n",
    "conn.commit()"
   ],
   "metadata": {
    "collapsed": false,
    "pycharm": {
     "name": "#%%\n"
    }
   }
  },
  {
   "cell_type": "code",
   "execution_count": 20,
   "outputs": [],
   "source": [
    "cursor.fetchall()"
   ],
   "metadata": {
    "collapsed": false,
    "pycharm": {
     "name": "#%%\n"
    }
   }
  },
  {
   "cell_type": "code",
   "execution_count": null,
   "outputs": [],
   "source": [
    "cursor.execute(\"select table_schema, table_name from information_schema.tables where table_schema not in \"\n",
    "               \"('information_schema', 'pg_catalog') and table_type = 'BASE TABLE' order by table_schema, \"\n",
    "               \"table_name;\")\n",
    "conn.commit()"
   ],
   "metadata": {
    "collapsed": false,
    "pycharm": {
     "name": "#%%\n"
    }
   }
  },
  {
   "cell_type": "code",
   "execution_count": null,
   "outputs": [],
   "source": [
    "cursor.fetchall()"
   ],
   "metadata": {
    "collapsed": false,
    "pycharm": {
     "name": "#%%\n"
    }
   }
  },
  {
   "cell_type": "code",
   "execution_count": 25,
   "outputs": [],
   "source": [
    "cursor.execute(\"select table_schema, table_name from information_schema.tables where table_name = 'immigration' and \"\n",
    "               \"table_schema not in ('information_schema', 'pg_catalog') and table_type = 'BASE TABLE' \"\n",
    "               \"order by table_schema;\")\n",
    "conn.commit()"
   ],
   "metadata": {
    "collapsed": false,
    "pycharm": {
     "name": "#%%\n"
    }
   }
  },
  {
   "cell_type": "code",
   "execution_count": 26,
   "outputs": [
    {
     "data": {
      "text/plain": "[('public', 'immigration')]"
     },
     "execution_count": 26,
     "metadata": {},
     "output_type": "execute_result"
    }
   ],
   "source": [
    "cursor.fetchall()"
   ],
   "metadata": {
    "collapsed": false,
    "pycharm": {
     "name": "#%%\n"
    }
   }
  },
  {
   "cell_type": "code",
   "execution_count": null,
   "outputs": [],
   "source": [],
   "metadata": {
    "collapsed": false,
    "pycharm": {
     "name": "#%%\n"
    }
   }
  }
 ],
 "metadata": {
  "kernelspec": {
   "name": "python3",
   "language": "python",
   "display_name": "Python 3 (ipykernel)"
  },
  "language_info": {
   "codemirror_mode": {
    "name": "ipython",
    "version": 2
   },
   "file_extension": ".py",
   "mimetype": "text/x-python",
   "name": "python",
   "nbconvert_exporter": "python",
   "pygments_lexer": "ipython2",
   "version": "2.7.6"
  }
 },
 "nbformat": 4,
 "nbformat_minor": 0
}