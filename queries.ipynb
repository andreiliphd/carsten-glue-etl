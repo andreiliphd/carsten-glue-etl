{
 "cells": [
  {
   "cell_type": "code",
   "execution_count": 2,
   "metadata": {
    "collapsed": true
   },
   "outputs": [],
   "source": [
    "import psycopg2\n",
    "import configparser\n",
    "import pandas as pd"
   ]
  },
  {
   "cell_type": "code",
   "execution_count": 3,
   "outputs": [
    {
     "data": {
      "text/plain": "['dwh.cfg']"
     },
     "execution_count": 3,
     "metadata": {},
     "output_type": "execute_result"
    }
   ],
   "source": [
    "config = configparser.ConfigParser()\n",
    "config.read(\"dwh.cfg\")"
   ],
   "metadata": {
    "collapsed": false,
    "pycharm": {
     "name": "#%%\n"
    }
   }
  },
  {
   "cell_type": "code",
   "execution_count": 4,
   "outputs": [],
   "source": [
    "conn = psycopg2.connect(\"host={} dbname={} user={} password={}\".format(config[\"CLUSTER\"][\"HOST\"],\n",
    "                                                                config[\"IMMIGRATION\"][\"DB_NAME\"],\n",
    "                                                                config[\"CLUSTER\"][\"DB_USER\"],\n",
    "                                                                config[\"CLUSTER\"][\"DB_PASSWORD\"]))"
   ],
   "metadata": {
    "collapsed": false,
    "pycharm": {
     "name": "#%%\n"
    }
   }
  },
  {
   "cell_type": "code",
   "execution_count": 5,
   "outputs": [],
   "source": [
    "cursor = conn.cursor()"
   ],
   "metadata": {
    "collapsed": false,
    "pycharm": {
     "name": "#%%\n"
    }
   }
  },
  {
   "cell_type": "markdown",
   "source": [
    "### Query 1\n",
    "What is the population top 3 most love states by immigrants?"
   ],
   "metadata": {
    "collapsed": false,
    "pycharm": {
     "name": "#%% md\n"
    }
   }
  },
  {
   "cell_type": "markdown",
   "source": [
    "#### Building query 1\n",
    "What are the states with the most immigration in US?"
   ],
   "metadata": {
    "collapsed": false,
    "pycharm": {
     "name": "#%% md\n"
    }
   }
  },
  {
   "cell_type": "code",
   "execution_count": 26,
   "outputs": [
    {
     "data": {
      "text/plain": "  address   count\n0      FL  621701\n1      NY  553677\n2      CA  470386",
      "text/html": "<div>\n<style scoped>\n    .dataframe tbody tr th:only-of-type {\n        vertical-align: middle;\n    }\n\n    .dataframe tbody tr th {\n        vertical-align: top;\n    }\n\n    .dataframe thead th {\n        text-align: right;\n    }\n</style>\n<table border=\"1\" class=\"dataframe\">\n  <thead>\n    <tr style=\"text-align: right;\">\n      <th></th>\n      <th>address</th>\n      <th>count</th>\n    </tr>\n  </thead>\n  <tbody>\n    <tr>\n      <th>0</th>\n      <td>FL</td>\n      <td>621701</td>\n    </tr>\n    <tr>\n      <th>1</th>\n      <td>NY</td>\n      <td>553677</td>\n    </tr>\n    <tr>\n      <th>2</th>\n      <td>CA</td>\n      <td>470386</td>\n    </tr>\n  </tbody>\n</table>\n</div>"
     },
     "execution_count": 26,
     "metadata": {},
     "output_type": "execute_result"
    }
   ],
   "source": [
    "pd.read_sql_query('select im.i94addr as address, COUNT(i94addr) from immigration im GROUP BY im.i94addr'\n",
    "                  ' ORDER BY COUNT(i94addr) DESC limit 3;', conn)\n"
   ],
   "metadata": {
    "collapsed": false,
    "pycharm": {
     "name": "#%%\n"
    }
   }
  },
  {
   "cell_type": "markdown",
   "source": [
    "#### Building query 2\n",
    "What is the total population of the top 3 most loved states by immigrants?"
   ],
   "metadata": {
    "collapsed": false,
    "pycharm": {
     "name": "#%% md\n"
    }
   }
  },
  {
   "cell_type": "code",
   "execution_count": 20,
   "outputs": [
    {
     "data": {
      "text/plain": "   state code  total_population\n0          CA       123444353.0\n1          NH          990990.0\n2          OR         7182545.0\n3          ND          947450.0\n4          TX        70553853.0\n5          PR         2030847.0\n6          NV        11203720.0\n7          OH        12096550.0\n8          KY         4649385.0\n9          NY        49002055.0\n10         HI         1763830.0\n11         NM         4195210.0\n12         MS         1141543.0\n13         IN         9097794.0\n14         DC         3361140.0\n15         NE         3606165.0\n16         FL        32306132.0\n17         MO         7595970.0\n18         ME          334360.0\n19         AR         2882889.0\n20         WI         7065725.0\n21         CT         4355096.0\n22         NC        15300995.0\n23         SD         1225490.0\n24         RI         1986112.0\n25         OK         7244975.0\n26         ID         1994415.0\n27         GA         8555160.0\n28         MN         7044165.0\n29         PA        11502801.0\n30         AK         1493475.0\n31         MD         6560645.0\n32         LA         6502975.0\n33         MT          906470.0\n34         IL        22514390.0\n35         TN        10690165.0\n36         WA        12500535.0\n37         MI        10885238.0\n38         NJ         6931024.0\n39         MA         9997045.0\n40         AL         5163306.0\n41         IA         3604003.0\n42         UT         5119677.0\n43         CO        14678345.0\n44         SC         2586976.0\n45         VA        11818110.0\n46         DE          359785.0\n47         AZ        22497710.0\n48         KS         5741370.0",
      "text/html": "<div>\n<style scoped>\n    .dataframe tbody tr th:only-of-type {\n        vertical-align: middle;\n    }\n\n    .dataframe tbody tr th {\n        vertical-align: top;\n    }\n\n    .dataframe thead th {\n        text-align: right;\n    }\n</style>\n<table border=\"1\" class=\"dataframe\">\n  <thead>\n    <tr style=\"text-align: right;\">\n      <th></th>\n      <th>state code</th>\n      <th>total_population</th>\n    </tr>\n  </thead>\n  <tbody>\n    <tr>\n      <th>0</th>\n      <td>CA</td>\n      <td>123444353.0</td>\n    </tr>\n    <tr>\n      <th>1</th>\n      <td>NH</td>\n      <td>990990.0</td>\n    </tr>\n    <tr>\n      <th>2</th>\n      <td>OR</td>\n      <td>7182545.0</td>\n    </tr>\n    <tr>\n      <th>3</th>\n      <td>ND</td>\n      <td>947450.0</td>\n    </tr>\n    <tr>\n      <th>4</th>\n      <td>TX</td>\n      <td>70553853.0</td>\n    </tr>\n    <tr>\n      <th>5</th>\n      <td>PR</td>\n      <td>2030847.0</td>\n    </tr>\n    <tr>\n      <th>6</th>\n      <td>NV</td>\n      <td>11203720.0</td>\n    </tr>\n    <tr>\n      <th>7</th>\n      <td>OH</td>\n      <td>12096550.0</td>\n    </tr>\n    <tr>\n      <th>8</th>\n      <td>KY</td>\n      <td>4649385.0</td>\n    </tr>\n    <tr>\n      <th>9</th>\n      <td>NY</td>\n      <td>49002055.0</td>\n    </tr>\n    <tr>\n      <th>10</th>\n      <td>HI</td>\n      <td>1763830.0</td>\n    </tr>\n    <tr>\n      <th>11</th>\n      <td>NM</td>\n      <td>4195210.0</td>\n    </tr>\n    <tr>\n      <th>12</th>\n      <td>MS</td>\n      <td>1141543.0</td>\n    </tr>\n    <tr>\n      <th>13</th>\n      <td>IN</td>\n      <td>9097794.0</td>\n    </tr>\n    <tr>\n      <th>14</th>\n      <td>DC</td>\n      <td>3361140.0</td>\n    </tr>\n    <tr>\n      <th>15</th>\n      <td>NE</td>\n      <td>3606165.0</td>\n    </tr>\n    <tr>\n      <th>16</th>\n      <td>FL</td>\n      <td>32306132.0</td>\n    </tr>\n    <tr>\n      <th>17</th>\n      <td>MO</td>\n      <td>7595970.0</td>\n    </tr>\n    <tr>\n      <th>18</th>\n      <td>ME</td>\n      <td>334360.0</td>\n    </tr>\n    <tr>\n      <th>19</th>\n      <td>AR</td>\n      <td>2882889.0</td>\n    </tr>\n    <tr>\n      <th>20</th>\n      <td>WI</td>\n      <td>7065725.0</td>\n    </tr>\n    <tr>\n      <th>21</th>\n      <td>CT</td>\n      <td>4355096.0</td>\n    </tr>\n    <tr>\n      <th>22</th>\n      <td>NC</td>\n      <td>15300995.0</td>\n    </tr>\n    <tr>\n      <th>23</th>\n      <td>SD</td>\n      <td>1225490.0</td>\n    </tr>\n    <tr>\n      <th>24</th>\n      <td>RI</td>\n      <td>1986112.0</td>\n    </tr>\n    <tr>\n      <th>25</th>\n      <td>OK</td>\n      <td>7244975.0</td>\n    </tr>\n    <tr>\n      <th>26</th>\n      <td>ID</td>\n      <td>1994415.0</td>\n    </tr>\n    <tr>\n      <th>27</th>\n      <td>GA</td>\n      <td>8555160.0</td>\n    </tr>\n    <tr>\n      <th>28</th>\n      <td>MN</td>\n      <td>7044165.0</td>\n    </tr>\n    <tr>\n      <th>29</th>\n      <td>PA</td>\n      <td>11502801.0</td>\n    </tr>\n    <tr>\n      <th>30</th>\n      <td>AK</td>\n      <td>1493475.0</td>\n    </tr>\n    <tr>\n      <th>31</th>\n      <td>MD</td>\n      <td>6560645.0</td>\n    </tr>\n    <tr>\n      <th>32</th>\n      <td>LA</td>\n      <td>6502975.0</td>\n    </tr>\n    <tr>\n      <th>33</th>\n      <td>MT</td>\n      <td>906470.0</td>\n    </tr>\n    <tr>\n      <th>34</th>\n      <td>IL</td>\n      <td>22514390.0</td>\n    </tr>\n    <tr>\n      <th>35</th>\n      <td>TN</td>\n      <td>10690165.0</td>\n    </tr>\n    <tr>\n      <th>36</th>\n      <td>WA</td>\n      <td>12500535.0</td>\n    </tr>\n    <tr>\n      <th>37</th>\n      <td>MI</td>\n      <td>10885238.0</td>\n    </tr>\n    <tr>\n      <th>38</th>\n      <td>NJ</td>\n      <td>6931024.0</td>\n    </tr>\n    <tr>\n      <th>39</th>\n      <td>MA</td>\n      <td>9997045.0</td>\n    </tr>\n    <tr>\n      <th>40</th>\n      <td>AL</td>\n      <td>5163306.0</td>\n    </tr>\n    <tr>\n      <th>41</th>\n      <td>IA</td>\n      <td>3604003.0</td>\n    </tr>\n    <tr>\n      <th>42</th>\n      <td>UT</td>\n      <td>5119677.0</td>\n    </tr>\n    <tr>\n      <th>43</th>\n      <td>CO</td>\n      <td>14678345.0</td>\n    </tr>\n    <tr>\n      <th>44</th>\n      <td>SC</td>\n      <td>2586976.0</td>\n    </tr>\n    <tr>\n      <th>45</th>\n      <td>VA</td>\n      <td>11818110.0</td>\n    </tr>\n    <tr>\n      <th>46</th>\n      <td>DE</td>\n      <td>359785.0</td>\n    </tr>\n    <tr>\n      <th>47</th>\n      <td>AZ</td>\n      <td>22497710.0</td>\n    </tr>\n    <tr>\n      <th>48</th>\n      <td>KS</td>\n      <td>5741370.0</td>\n    </tr>\n  </tbody>\n</table>\n</div>"
     },
     "execution_count": 20,
     "metadata": {},
     "output_type": "execute_result"
    }
   ],
   "source": [
    "pd.read_sql_query(\"\"\"select population_by_state.\"state code\", population_by_state.total_population from (select sc.\"state code\", sum(sc.\"total population\") as total_population from state_codes sc \"\"\" +\n",
    "                  \"\"\"group by sc.\"state code\") as population_by_state;\"\"\", conn)"
   ],
   "metadata": {
    "collapsed": false,
    "pycharm": {
     "name": "#%%\n"
    }
   }
  },
  {
   "cell_type": "markdown",
   "source": [
    "#### Building query final\n",
    "What is the population top 3 most loved states by immigrants?"
   ],
   "metadata": {
    "collapsed": false,
    "pycharm": {
     "name": "#%% md\n"
    }
   }
  },
  {
   "cell_type": "code",
   "execution_count": 29,
   "outputs": [
    {
     "data": {
      "text/plain": "           sum\n0  204752540.0",
      "text/html": "<div>\n<style scoped>\n    .dataframe tbody tr th:only-of-type {\n        vertical-align: middle;\n    }\n\n    .dataframe tbody tr th {\n        vertical-align: top;\n    }\n\n    .dataframe thead th {\n        text-align: right;\n    }\n</style>\n<table border=\"1\" class=\"dataframe\">\n  <thead>\n    <tr style=\"text-align: right;\">\n      <th></th>\n      <th>sum</th>\n    </tr>\n  </thead>\n  <tbody>\n    <tr>\n      <th>0</th>\n      <td>204752540.0</td>\n    </tr>\n  </tbody>\n</table>\n</div>"
     },
     "execution_count": 29,
     "metadata": {},
     "output_type": "execute_result"
    }
   ],
   "source": [
    "pd.read_sql_query(\"\"\"select sum(population_by_state.total_population) from (select im.i94addr as address, COUNT(i94addr) from immigration im GROUP BY im.i94addr \"\"\" +\n",
    "                  \"\"\" ORDER BY COUNT(i94addr) DESC limit 3) as top3 JOIN (select sc.\"state code\", sum(sc.\"total population\") \"\"\" +\n",
    "                  \"\"\"as total_population from state_codes sc group by sc.\"state code\") as population_by_state ON \"\"\" +\n",
    "                  \"\"\"top3.address = population_by_state.\"state code\" limit 5;\"\"\", conn)\n"
   ],
   "metadata": {
    "collapsed": false,
    "pycharm": {
     "name": "#%%\n"
    }
   }
  },
  {
   "cell_type": "markdown",
   "source": [
    "### Query 2\n",
    "What types of airports immigrants prefer?\n"
   ],
   "metadata": {
    "collapsed": false,
    "pycharm": {
     "name": "#%% md\n"
    }
   }
  },
  {
   "cell_type": "code",
   "execution_count": 39,
   "outputs": [
    {
     "data": {
      "text/plain": "    port   count\n0    NYC  485916\n1    MIA  343941\n2    LOS  310163\n3    SFR  152586\n4    ORL  149195\n..   ...     ...\n195  PRO      12\n196  ROM      12\n197  PTK      12\n198  MAF      11\n199  ABG      11\n\n[200 rows x 2 columns]",
      "text/html": "<div>\n<style scoped>\n    .dataframe tbody tr th:only-of-type {\n        vertical-align: middle;\n    }\n\n    .dataframe tbody tr th {\n        vertical-align: top;\n    }\n\n    .dataframe thead th {\n        text-align: right;\n    }\n</style>\n<table border=\"1\" class=\"dataframe\">\n  <thead>\n    <tr style=\"text-align: right;\">\n      <th></th>\n      <th>port</th>\n      <th>count</th>\n    </tr>\n  </thead>\n  <tbody>\n    <tr>\n      <th>0</th>\n      <td>NYC</td>\n      <td>485916</td>\n    </tr>\n    <tr>\n      <th>1</th>\n      <td>MIA</td>\n      <td>343941</td>\n    </tr>\n    <tr>\n      <th>2</th>\n      <td>LOS</td>\n      <td>310163</td>\n    </tr>\n    <tr>\n      <th>3</th>\n      <td>SFR</td>\n      <td>152586</td>\n    </tr>\n    <tr>\n      <th>4</th>\n      <td>ORL</td>\n      <td>149195</td>\n    </tr>\n    <tr>\n      <th>...</th>\n      <td>...</td>\n      <td>...</td>\n    </tr>\n    <tr>\n      <th>195</th>\n      <td>PRO</td>\n      <td>12</td>\n    </tr>\n    <tr>\n      <th>196</th>\n      <td>ROM</td>\n      <td>12</td>\n    </tr>\n    <tr>\n      <th>197</th>\n      <td>PTK</td>\n      <td>12</td>\n    </tr>\n    <tr>\n      <th>198</th>\n      <td>MAF</td>\n      <td>11</td>\n    </tr>\n    <tr>\n      <th>199</th>\n      <td>ABG</td>\n      <td>11</td>\n    </tr>\n  </tbody>\n</table>\n<p>200 rows × 2 columns</p>\n</div>"
     },
     "execution_count": 39,
     "metadata": {},
     "output_type": "execute_result"
    }
   ],
   "source": [
    "#### Building query 2\n",
    "How many immigrants used particular airport?\n",
    "pd.read_sql_query(\"\"\"select im.i94port port, count(im.i94port) count from immigration im group by im.i94port\"\"\" +\n",
    "                  \"\"\" order by count desc limit 200\"\"\", conn)"
   ],
   "metadata": {
    "collapsed": false,
    "pycharm": {
     "name": "#%%\n"
    }
   }
  },
  {
   "cell_type": "code",
   "execution_count": 44,
   "outputs": [
    {
     "data": {
      "text/plain": "             type        sum\n0          closed   161150.0\n1   large_airport  1174221.0\n2  medium_airport   410990.0\n3   seaplane_base      659.0\n4   small_airport   288700.0",
      "text/html": "<div>\n<style scoped>\n    .dataframe tbody tr th:only-of-type {\n        vertical-align: middle;\n    }\n\n    .dataframe tbody tr th {\n        vertical-align: top;\n    }\n\n    .dataframe thead th {\n        text-align: right;\n    }\n</style>\n<table border=\"1\" class=\"dataframe\">\n  <thead>\n    <tr style=\"text-align: right;\">\n      <th></th>\n      <th>type</th>\n      <th>sum</th>\n    </tr>\n  </thead>\n  <tbody>\n    <tr>\n      <th>0</th>\n      <td>closed</td>\n      <td>161150.0</td>\n    </tr>\n    <tr>\n      <th>1</th>\n      <td>large_airport</td>\n      <td>1174221.0</td>\n    </tr>\n    <tr>\n      <th>2</th>\n      <td>medium_airport</td>\n      <td>410990.0</td>\n    </tr>\n    <tr>\n      <th>3</th>\n      <td>seaplane_base</td>\n      <td>659.0</td>\n    </tr>\n    <tr>\n      <th>4</th>\n      <td>small_airport</td>\n      <td>288700.0</td>\n    </tr>\n  </tbody>\n</table>\n</div>"
     },
     "execution_count": 44,
     "metadata": {},
     "output_type": "execute_result"
    }
   ],
   "source": [
    "## Building query final\n",
    "What types of airports immigrants prefer?\n",
    "\n",
    "pd.read_sql_query(\"\"\"select ac.type, sum(count_by_port.count) from (select im.i94port port, count(im.i94port) count from immigration im group by im.i94port\"\"\" +\n",
    "                  \"\"\" order by count desc limit 200) as count_by_port join airport_codes ac on count_by_port.port = ac.iata_code\"\"\" +\n",
    "                  \"\"\" group by ac.type limit 10\"\"\", conn)"
   ],
   "metadata": {
    "collapsed": false,
    "pycharm": {
     "name": "#%%\n"
    }
   }
  },
  {
   "cell_type": "code",
   "execution_count": null,
   "outputs": [],
   "source": [],
   "metadata": {
    "collapsed": false,
    "pycharm": {
     "name": "#%%\n"
    }
   }
  }
 ],
 "metadata": {
  "kernelspec": {
   "name": "python3",
   "language": "python",
   "display_name": "Python 3 (ipykernel)"
  },
  "language_info": {
   "codemirror_mode": {
    "name": "ipython",
    "version": 2
   },
   "file_extension": ".py",
   "mimetype": "text/x-python",
   "name": "python",
   "nbconvert_exporter": "python",
   "pygments_lexer": "ipython2",
   "version": "2.7.6"
  }
 },
 "nbformat": 4,
 "nbformat_minor": 0
}