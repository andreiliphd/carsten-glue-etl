{
 "cells": [
  {
   "cell_type": "code",
   "execution_count": 1,
   "metadata": {
    "collapsed": true
   },
   "outputs": [],
   "source": [
    "import psycopg2\n",
    "import configparser"
   ]
  },
  {
   "cell_type": "code",
   "execution_count": 2,
   "outputs": [
    {
     "data": {
      "text/plain": "['dwh.cfg']"
     },
     "execution_count": 2,
     "metadata": {},
     "output_type": "execute_result"
    }
   ],
   "source": [
    "config = configparser.ConfigParser()\n",
    "config.read(\"dwh.cfg\")"
   ],
   "metadata": {
    "collapsed": false,
    "pycharm": {
     "name": "#%%\n"
    }
   }
  },
  {
   "cell_type": "code",
   "execution_count": 3,
   "outputs": [],
   "source": [
    "conn = psycopg2.connect(\"host={} dbname={} user={} password={}\".format(config[\"CLUSTER\"][\"HOST\"],\n",
    "                                                                config[\"IMMIGRATION\"][\"DB_NAME\"],\n",
    "                                                                config[\"CLUSTER\"][\"DB_USER\"],\n",
    "                                                                config[\"CLUSTER\"][\"DB_PASSWORD\"]))"
   ],
   "metadata": {
    "collapsed": false,
    "pycharm": {
     "name": "#%%\n"
    }
   }
  },
  {
   "cell_type": "code",
   "execution_count": 4,
   "outputs": [],
   "source": [
    "cursor = conn.cursor()"
   ],
   "metadata": {
    "collapsed": false,
    "pycharm": {
     "name": "#%%\n"
    }
   }
  },
  {
   "cell_type": "code",
   "execution_count": 5,
   "outputs": [],
   "source": [
    "conn.commit()\n",
    "cursor.execute(\"select * from sas_data limit 7;\")\n",
    "conn.commit()"
   ],
   "metadata": {
    "collapsed": false,
    "pycharm": {
     "name": "#%%\n"
    }
   }
  },
  {
   "cell_type": "code",
   "execution_count": 6,
   "outputs": [
    {
     "data": {
      "text/plain": "[(3545479.0,\n  2016.0,\n  4.0,\n  260.0,\n  260.0,\n  'LOS',\n  20563.0,\n  1.0,\n  'CA',\n  20583.0,\n  48.0,\n  2.0,\n  1.0,\n  '20160419',\n  'MNL',\n  None,\n  'G',\n  'O',\n  None,\n  'M',\n  1968.0,\n  '10182016',\n  'M',\n  None,\n  'PR',\n  93995869030.0,\n  '00102',\n  'B2'),\n (3545480.0,\n  2016.0,\n  4.0,\n  260.0,\n  260.0,\n  'LOS',\n  20563.0,\n  1.0,\n  'CA',\n  20583.0,\n  37.0,\n  2.0,\n  1.0,\n  '20160419',\n  'MNL',\n  None,\n  'G',\n  'O',\n  None,\n  'M',\n  1979.0,\n  '10182016',\n  'M',\n  None,\n  'PR',\n  93994370330.0,\n  '00152',\n  'B2'),\n (3545481.0,\n  2016.0,\n  4.0,\n  260.0,\n  260.0,\n  'LOS',\n  20563.0,\n  1.0,\n  'CA',\n  20583.0,\n  36.0,\n  2.0,\n  1.0,\n  '20160419',\n  'MNL',\n  None,\n  'G',\n  'O',\n  None,\n  'M',\n  1980.0,\n  '10182016',\n  'F',\n  None,\n  'PR',\n  93994425330.0,\n  '00152',\n  'B2'),\n (3545482.0,\n  2016.0,\n  4.0,\n  260.0,\n  260.0,\n  'LOS',\n  20563.0,\n  1.0,\n  'CA',\n  20583.0,\n  18.0,\n  2.0,\n  1.0,\n  '20160419',\n  'MNL',\n  None,\n  'G',\n  'O',\n  None,\n  'M',\n  1998.0,\n  '10182016',\n  'F',\n  None,\n  'PR',\n  93995981930.0,\n  '00102',\n  'B2'),\n (3545483.0,\n  2016.0,\n  4.0,\n  260.0,\n  260.0,\n  'LOS',\n  20563.0,\n  1.0,\n  'CA',\n  20583.0,\n  17.0,\n  2.0,\n  1.0,\n  '20160419',\n  'MNL',\n  None,\n  'G',\n  'O',\n  None,\n  'M',\n  1999.0,\n  '10182016',\n  'M',\n  None,\n  'PR',\n  93996032230.0,\n  '00102',\n  'B2'),\n (3545484.0,\n  2016.0,\n  4.0,\n  260.0,\n  260.0,\n  'LOS',\n  20563.0,\n  1.0,\n  'CA',\n  20583.0,\n  9.0,\n  2.0,\n  1.0,\n  '20160419',\n  'MNL',\n  None,\n  'G',\n  'O',\n  None,\n  'M',\n  2007.0,\n  '10182016',\n  'F',\n  None,\n  'PR',\n  93995901130.0,\n  '00102',\n  'B2'),\n (3545485.0,\n  2016.0,\n  4.0,\n  260.0,\n  260.0,\n  'LOS',\n  20563.0,\n  1.0,\n  'CA',\n  20584.0,\n  54.0,\n  2.0,\n  1.0,\n  '20160419',\n  'MNL',\n  None,\n  'G',\n  'O',\n  None,\n  'M',\n  1962.0,\n  '10182016',\n  'F',\n  None,\n  'PR',\n  93996432930.0,\n  '00102',\n  'B2')]"
     },
     "execution_count": 6,
     "metadata": {},
     "output_type": "execute_result"
    }
   ],
   "source": [
    "cursor.fetchall()"
   ],
   "metadata": {
    "collapsed": false,
    "pycharm": {
     "name": "#%%\n"
    }
   }
  },
  {
   "cell_type": "code",
   "execution_count": null,
   "outputs": [],
   "source": [
    "conn.close()\n"
   ],
   "metadata": {
    "collapsed": false,
    "pycharm": {
     "name": "#%%\n"
    }
   }
  },
  {
   "cell_type": "code",
   "execution_count": 1,
   "outputs": [],
   "source": [
    "import pandas as pd\n"
   ],
   "metadata": {
    "collapsed": false,
    "pycharm": {
     "name": "#%%\n"
    }
   }
  },
  {
   "cell_type": "code",
   "execution_count": 2,
   "outputs": [
    {
     "data": {
      "text/plain": "            cicid   i94yr  i94mon  i94cit  i94res i94port  arrdate  i94mode  \\\n0        878176.0  2016.0     4.0   260.0   260.0     LOS  20549.0      1.0   \n1        878177.0  2016.0     4.0   260.0   260.0     LOS  20549.0      1.0   \n2        878178.0  2016.0     4.0   260.0   260.0     LOS  20549.0      1.0   \n3        878179.0  2016.0     4.0   260.0   260.0     LOS  20549.0      1.0   \n4        878180.0  2016.0     4.0   260.0   260.0     LOS  20549.0      1.0   \n...           ...     ...     ...     ...     ...     ...      ...      ...   \n220155  1360820.0  2016.0     4.0   117.0   117.0     NYC  20552.0      1.0   \n220156  1360821.0  2016.0     4.0   117.0   117.0     NYC  20552.0      1.0   \n220157  1360822.0  2016.0     4.0   117.0   117.0     NYC  20552.0      1.0   \n220158  1360823.0  2016.0     4.0   117.0   117.0     NYC  20552.0      1.0   \n220159  1360824.0  2016.0     4.0   117.0   117.0     NYC  20552.0      1.0   \n\n       i94addr  depdate  ...  entdepu  matflag  biryear   dtaddto gender  \\\n0           CA  20586.0  ...     None        M   1983.0  10042016      F   \n1           CA  20588.0  ...     None        M   1954.0  10042016      M   \n2           CA  20590.0  ...     None        M   1955.0  10042016      F   \n3           CA  20590.0  ...     None        M   1983.0  10042016      F   \n4           CA  20590.0  ...     None        M   2007.0  10042016      F   \n...        ...      ...  ...      ...      ...      ...       ...    ...   \n220155      NY  20555.0  ...     None        M   1974.0  07062016   None   \n220156      NY  20555.0  ...     None        M   1983.0  07062016   None   \n220157      NY  20555.0  ...     None        M   1986.0  07062016   None   \n220158      NY  20555.0  ...     None        M   1988.0  07062016   None   \n220159      NY  20555.0  ...     None        M   1996.0  07062016   None   \n\n       insnum airline        admnum  fltno visatype  \n0        None      CI  9.283516e+10  00006       B2  \n1        None      PR  9.284529e+10  00102       B2  \n2        None      PR  9.284584e+10  00102       B2  \n3        None      KE  9.283726e+10  00011       B2  \n4        None      KE  9.283727e+10  00011       B2  \n...       ...     ...           ...    ...      ...  \n220155   None      AZ  5.581912e+10  00604       WT  \n220156   None      AZ  5.581934e+10  00604       WT  \n220157   None      DL  5.581802e+10  00419       WT  \n220158   None      DL  5.581773e+10  00419       WT  \n220159   None      DL  5.581801e+10  00419       WT  \n\n[220160 rows x 28 columns]",
      "text/html": "<div>\n<style scoped>\n    .dataframe tbody tr th:only-of-type {\n        vertical-align: middle;\n    }\n\n    .dataframe tbody tr th {\n        vertical-align: top;\n    }\n\n    .dataframe thead th {\n        text-align: right;\n    }\n</style>\n<table border=\"1\" class=\"dataframe\">\n  <thead>\n    <tr style=\"text-align: right;\">\n      <th></th>\n      <th>cicid</th>\n      <th>i94yr</th>\n      <th>i94mon</th>\n      <th>i94cit</th>\n      <th>i94res</th>\n      <th>i94port</th>\n      <th>arrdate</th>\n      <th>i94mode</th>\n      <th>i94addr</th>\n      <th>depdate</th>\n      <th>...</th>\n      <th>entdepu</th>\n      <th>matflag</th>\n      <th>biryear</th>\n      <th>dtaddto</th>\n      <th>gender</th>\n      <th>insnum</th>\n      <th>airline</th>\n      <th>admnum</th>\n      <th>fltno</th>\n      <th>visatype</th>\n    </tr>\n  </thead>\n  <tbody>\n    <tr>\n      <th>0</th>\n      <td>878176.0</td>\n      <td>2016.0</td>\n      <td>4.0</td>\n      <td>260.0</td>\n      <td>260.0</td>\n      <td>LOS</td>\n      <td>20549.0</td>\n      <td>1.0</td>\n      <td>CA</td>\n      <td>20586.0</td>\n      <td>...</td>\n      <td>None</td>\n      <td>M</td>\n      <td>1983.0</td>\n      <td>10042016</td>\n      <td>F</td>\n      <td>None</td>\n      <td>CI</td>\n      <td>9.283516e+10</td>\n      <td>00006</td>\n      <td>B2</td>\n    </tr>\n    <tr>\n      <th>1</th>\n      <td>878177.0</td>\n      <td>2016.0</td>\n      <td>4.0</td>\n      <td>260.0</td>\n      <td>260.0</td>\n      <td>LOS</td>\n      <td>20549.0</td>\n      <td>1.0</td>\n      <td>CA</td>\n      <td>20588.0</td>\n      <td>...</td>\n      <td>None</td>\n      <td>M</td>\n      <td>1954.0</td>\n      <td>10042016</td>\n      <td>M</td>\n      <td>None</td>\n      <td>PR</td>\n      <td>9.284529e+10</td>\n      <td>00102</td>\n      <td>B2</td>\n    </tr>\n    <tr>\n      <th>2</th>\n      <td>878178.0</td>\n      <td>2016.0</td>\n      <td>4.0</td>\n      <td>260.0</td>\n      <td>260.0</td>\n      <td>LOS</td>\n      <td>20549.0</td>\n      <td>1.0</td>\n      <td>CA</td>\n      <td>20590.0</td>\n      <td>...</td>\n      <td>None</td>\n      <td>M</td>\n      <td>1955.0</td>\n      <td>10042016</td>\n      <td>F</td>\n      <td>None</td>\n      <td>PR</td>\n      <td>9.284584e+10</td>\n      <td>00102</td>\n      <td>B2</td>\n    </tr>\n    <tr>\n      <th>3</th>\n      <td>878179.0</td>\n      <td>2016.0</td>\n      <td>4.0</td>\n      <td>260.0</td>\n      <td>260.0</td>\n      <td>LOS</td>\n      <td>20549.0</td>\n      <td>1.0</td>\n      <td>CA</td>\n      <td>20590.0</td>\n      <td>...</td>\n      <td>None</td>\n      <td>M</td>\n      <td>1983.0</td>\n      <td>10042016</td>\n      <td>F</td>\n      <td>None</td>\n      <td>KE</td>\n      <td>9.283726e+10</td>\n      <td>00011</td>\n      <td>B2</td>\n    </tr>\n    <tr>\n      <th>4</th>\n      <td>878180.0</td>\n      <td>2016.0</td>\n      <td>4.0</td>\n      <td>260.0</td>\n      <td>260.0</td>\n      <td>LOS</td>\n      <td>20549.0</td>\n      <td>1.0</td>\n      <td>CA</td>\n      <td>20590.0</td>\n      <td>...</td>\n      <td>None</td>\n      <td>M</td>\n      <td>2007.0</td>\n      <td>10042016</td>\n      <td>F</td>\n      <td>None</td>\n      <td>KE</td>\n      <td>9.283727e+10</td>\n      <td>00011</td>\n      <td>B2</td>\n    </tr>\n    <tr>\n      <th>...</th>\n      <td>...</td>\n      <td>...</td>\n      <td>...</td>\n      <td>...</td>\n      <td>...</td>\n      <td>...</td>\n      <td>...</td>\n      <td>...</td>\n      <td>...</td>\n      <td>...</td>\n      <td>...</td>\n      <td>...</td>\n      <td>...</td>\n      <td>...</td>\n      <td>...</td>\n      <td>...</td>\n      <td>...</td>\n      <td>...</td>\n      <td>...</td>\n      <td>...</td>\n      <td>...</td>\n    </tr>\n    <tr>\n      <th>220155</th>\n      <td>1360820.0</td>\n      <td>2016.0</td>\n      <td>4.0</td>\n      <td>117.0</td>\n      <td>117.0</td>\n      <td>NYC</td>\n      <td>20552.0</td>\n      <td>1.0</td>\n      <td>NY</td>\n      <td>20555.0</td>\n      <td>...</td>\n      <td>None</td>\n      <td>M</td>\n      <td>1974.0</td>\n      <td>07062016</td>\n      <td>None</td>\n      <td>None</td>\n      <td>AZ</td>\n      <td>5.581912e+10</td>\n      <td>00604</td>\n      <td>WT</td>\n    </tr>\n    <tr>\n      <th>220156</th>\n      <td>1360821.0</td>\n      <td>2016.0</td>\n      <td>4.0</td>\n      <td>117.0</td>\n      <td>117.0</td>\n      <td>NYC</td>\n      <td>20552.0</td>\n      <td>1.0</td>\n      <td>NY</td>\n      <td>20555.0</td>\n      <td>...</td>\n      <td>None</td>\n      <td>M</td>\n      <td>1983.0</td>\n      <td>07062016</td>\n      <td>None</td>\n      <td>None</td>\n      <td>AZ</td>\n      <td>5.581934e+10</td>\n      <td>00604</td>\n      <td>WT</td>\n    </tr>\n    <tr>\n      <th>220157</th>\n      <td>1360822.0</td>\n      <td>2016.0</td>\n      <td>4.0</td>\n      <td>117.0</td>\n      <td>117.0</td>\n      <td>NYC</td>\n      <td>20552.0</td>\n      <td>1.0</td>\n      <td>NY</td>\n      <td>20555.0</td>\n      <td>...</td>\n      <td>None</td>\n      <td>M</td>\n      <td>1986.0</td>\n      <td>07062016</td>\n      <td>None</td>\n      <td>None</td>\n      <td>DL</td>\n      <td>5.581802e+10</td>\n      <td>00419</td>\n      <td>WT</td>\n    </tr>\n    <tr>\n      <th>220158</th>\n      <td>1360823.0</td>\n      <td>2016.0</td>\n      <td>4.0</td>\n      <td>117.0</td>\n      <td>117.0</td>\n      <td>NYC</td>\n      <td>20552.0</td>\n      <td>1.0</td>\n      <td>NY</td>\n      <td>20555.0</td>\n      <td>...</td>\n      <td>None</td>\n      <td>M</td>\n      <td>1988.0</td>\n      <td>07062016</td>\n      <td>None</td>\n      <td>None</td>\n      <td>DL</td>\n      <td>5.581773e+10</td>\n      <td>00419</td>\n      <td>WT</td>\n    </tr>\n    <tr>\n      <th>220159</th>\n      <td>1360824.0</td>\n      <td>2016.0</td>\n      <td>4.0</td>\n      <td>117.0</td>\n      <td>117.0</td>\n      <td>NYC</td>\n      <td>20552.0</td>\n      <td>1.0</td>\n      <td>NY</td>\n      <td>20555.0</td>\n      <td>...</td>\n      <td>None</td>\n      <td>M</td>\n      <td>1996.0</td>\n      <td>07062016</td>\n      <td>None</td>\n      <td>None</td>\n      <td>DL</td>\n      <td>5.581801e+10</td>\n      <td>00419</td>\n      <td>WT</td>\n    </tr>\n  </tbody>\n</table>\n<p>220160 rows × 28 columns</p>\n</div>"
     },
     "execution_count": 2,
     "metadata": {},
     "output_type": "execute_result"
    }
   ],
   "source": [
    "pd.read_parquet(\"data/sas_data/part-00002-b9542815-7a8d-45fc-9c67-c9c5007ad0d4-c000.snappy.parquet\", engine=\"fastparquet\")"
   ],
   "metadata": {
    "collapsed": false,
    "pycharm": {
     "name": "#%%\n"
    }
   }
  },
  {
   "cell_type": "code",
   "execution_count": null,
   "outputs": [],
   "source": [],
   "metadata": {
    "collapsed": false,
    "pycharm": {
     "name": "#%%\n"
    }
   }
  }
 ],
 "metadata": {
  "kernelspec": {
   "display_name": "Python 3",
   "language": "python",
   "name": "python3"
  },
  "language_info": {
   "codemirror_mode": {
    "name": "ipython",
    "version": 2
   },
   "file_extension": ".py",
   "mimetype": "text/x-python",
   "name": "python",
   "nbconvert_exporter": "python",
   "pygments_lexer": "ipython2",
   "version": "2.7.6"
  }
 },
 "nbformat": 4,
 "nbformat_minor": 0
}